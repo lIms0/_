{
  "nbformat": 4,
  "nbformat_minor": 0,
  "metadata": {
    "colab": {
      "provenance": [],
      "toc_visible": true
    },
    "kernelspec": {
      "name": "python3",
      "display_name": "Python 3"
    },
    "language_info": {
      "name": "python"
    }
  },
  "cells": [
    {
      "cell_type": "markdown",
      "source": [
        "# **2. A Crash Course in Python**\n",
        "\n",
        "파이썬 단기 집중 과정"
      ],
      "metadata": {
        "id": "33-yzPDulZQc"
      }
    },
    {
      "cell_type": "markdown",
      "source": [
        "##The Zen of Python\n",
        "\n",
        "*   중괄호를 사용하여 코드 블록 구분\n",
        "*   들여쓰기 사용\n"
      ],
      "metadata": {
        "id": "U6tTxmGClxqV"
      }
    },
    {
      "cell_type": "code",
      "execution_count": null,
      "metadata": {
        "id": "VCC_HrlUlVFj"
      },
      "outputs": [],
      "source": [
        "for i in [1, 2, 3, 4, 5]:\n",
        "  print(i)                        #\"for i\"블록의 첫 줄\n",
        "  for j in [1, 2, 3, 4, 5]:\n",
        "    print(j)                      #\"for j\"블록의 첫 줄\n",
        "    print(i + j)                  #\"for j\"블록의 마지막 줄\n",
        "  print(i)                        #\"for i\"블록의 마지막 줄\n",
        "print(\"done looping\")"
      ]
    },
    {
      "cell_type": "markdown",
      "source": [
        "* 백슬래시를 사용하면 명령문이 다음 줄로 계속됨"
      ],
      "metadata": {
        "id": "t7yFCwvRr7zB"
      }
    },
    {
      "cell_type": "code",
      "source": [
        "two_plus_three = 2 + \\\n",
        "                  3\n",
        "two_plus_three"
      ],
      "metadata": {
        "id": "eW-clvDzlvN1",
        "colab": {
          "base_uri": "https://localhost:8080/"
        },
        "outputId": "da5cddd3-8919-4400-efe3-012ae039c339"
      },
      "execution_count": null,
      "outputs": [
        {
          "output_type": "execute_result",
          "data": {
            "text/plain": [
              "5"
            ]
          },
          "metadata": {},
          "execution_count": 10
        }
      ]
    },
    {
      "cell_type": "markdown",
      "source": [
        "### **모듈 Module**"
      ],
      "metadata": {
        "id": "F7e7Tlyn_cQQ"
      }
    },
    {
      "cell_type": "markdown",
      "source": [
        "\n",
        "* 코드를 구성하는 재사용 가능한 단위\n",
        "* 함수, 변수, 및 클래스와 같은 정의들을 포함할 수 있는 파일\n",
        "* 코드를 구조화하고 관련 기능을 묶어 사용하기 쉽도록 도와줌"
      ],
      "metadata": {
        "id": "CnEMtmsk0g2s"
      }
    },
    {
      "cell_type": "code",
      "source": [
        "import re\n",
        "my_regex = re.compile(\"[0-9]+\", re.I)"
      ],
      "metadata": {
        "id": "yC5KE8sAu-1r"
      },
      "execution_count": null,
      "outputs": []
    },
    {
      "cell_type": "markdown",
      "source": [
        "ex) matplotlib로 데이터를 시각화할 때"
      ],
      "metadata": {
        "id": "9N34gM031Q8A"
      }
    },
    {
      "cell_type": "code",
      "source": [
        "import matplotlib.pyplot as plt"
      ],
      "metadata": {
        "id": "xrUdysPD1NV_"
      },
      "execution_count": null,
      "outputs": []
    },
    {
      "cell_type": "markdown",
      "source": [
        "### **산수 Arithmetic**"
      ],
      "metadata": {
        "id": "YZ2Gk3mQ_P-p"
      }
    },
    {
      "cell_type": "markdown",
      "source": [
        "\n",
        "* 덧셈 연산자 (+)\n",
        "\n",
        "    3 + 5  = 8\n",
        "\n",
        "* 뺄셈 연산자 (-)\n",
        "\n",
        "    10 - 7 = 3\n",
        "\n",
        "* 곱셈 연산자 (*)\n",
        "\n",
        "    4 * 6 = 24\n",
        "\n",
        "* **나눗셈 연산자 (/)**\n",
        "\n",
        "    5/2 = 2.5\n",
        "\n",
        "* **정수 나눗셈 연산자 (//)**\n",
        "\n",
        "    5//2 = 2\n",
        "\n",
        "* 나머지 연산자 (%)\n",
        "\n",
        "    17 % 5 = 2\n",
        "\n",
        "* 거듭제곱 연산자(**)\n",
        "\n",
        "    2 ** 3 = 8"
      ],
      "metadata": {
        "id": "kKwgjiQO1Mkn"
      }
    },
    {
      "cell_type": "markdown",
      "source": [
        "###**함수 Function**"
      ],
      "metadata": {
        "id": "8MoWt_yB_I8V"
      }
    },
    {
      "cell_type": "markdown",
      "source": [
        "* 특정 작업을 수행하고 결과 반환\n",
        "* 코드의 구조화와 모듈화 가능\n",
        "* 코드의 재사용성과 가독성 향상\n",
        "* def를 사용하여 함수를 정의"
      ],
      "metadata": {
        "id": "JERbmUYl2IZM"
      }
    },
    {
      "cell_type": "code",
      "source": [
        "def greet(name):\n",
        "    \"\"\"인사를 출력하는 함수\"\"\"\n",
        "    print(\"안녕하세요, \" + name + \" 님!\")\n",
        "\n",
        "# 함수 호출\n",
        "greet(\"소희\")"
      ],
      "metadata": {
        "id": "YFACRARQ2IBw",
        "colab": {
          "base_uri": "https://localhost:8080/"
        },
        "outputId": "82139265-c664-45d9-ac8e-de9b3d89e6c8"
      },
      "execution_count": null,
      "outputs": [
        {
          "output_type": "stream",
          "name": "stdout",
          "text": [
            "안녕하세요, 소희 님!\n"
          ]
        }
      ]
    },
    {
      "cell_type": "markdown",
      "source": [
        "* return을 사용해 값 반환"
      ],
      "metadata": {
        "id": "aEpcrY_t8hAw"
      }
    },
    {
      "cell_type": "code",
      "source": [
        "def add_numbers(a, b):\n",
        "    \"\"\"두 숫자의 합을 반환하는 함수\"\"\"\n",
        "    return a + b\n",
        "\n",
        "# 함수 호출 및 반환 값 사용\n",
        "result = add_numbers(3, 5)\n",
        "print(result)  # 출력: 8"
      ],
      "metadata": {
        "colab": {
          "base_uri": "https://localhost:8080/"
        },
        "id": "hYia4GIS8psl",
        "outputId": "36456d88-5f67-414e-a60b-94c8becf2be8"
      },
      "execution_count": null,
      "outputs": [
        {
          "output_type": "stream",
          "name": "stdout",
          "text": [
            "8\n"
          ]
        }
      ]
    },
    {
      "cell_type": "markdown",
      "source": [
        "##  **문자열 String**\n",
        "\n",
        "* 작은따옴표(' ') 또는 큰따옴표(\" \")로 둘러싸인 문자들의 집합으로 표현 (따옴표 일치해야 함)\n",
        "* 문자열 결합, 인덱싱, 슬라이싱, 포맷팅, 검색 및 대체 등이 포함"
      ],
      "metadata": {
        "id": "K4aK69nh8rcG"
      }
    },
    {
      "cell_type": "markdown",
      "source": [
        "1) 문자열 결합\n",
        "\n",
        "  : + 연산자를 사용하여 두 개의 문자열 결합"
      ],
      "metadata": {
        "id": "io8zY8UjRT1Z"
      }
    },
    {
      "cell_type": "code",
      "source": [
        "string1 = \"Hello\"\n",
        "string2 = \"World!\"\n",
        "result = string1 + string2\n",
        "print(result)                                       # 출력: HelloWorld!"
      ],
      "metadata": {
        "id": "uypc2Fk8RXFd",
        "colab": {
          "base_uri": "https://localhost:8080/"
        },
        "outputId": "6b40baf8-4b6a-4f62-b256-c536e9848a70"
      },
      "execution_count": null,
      "outputs": [
        {
          "output_type": "stream",
          "name": "stdout",
          "text": [
            "HelloWorld!\n"
          ]
        }
      ]
    },
    {
      "cell_type": "markdown",
      "source": [
        "2) 인덱싱\n",
        "\n",
        "  : 문자열의 특정 위치에 있는 문자에 접근\n",
        "\n",
        "  인덱스는 0부터 시작"
      ],
      "metadata": {
        "id": "XcqmckYuRaGC"
      }
    },
    {
      "cell_type": "code",
      "source": [
        "string = \"Hello\"\n",
        "character = string[1]\n",
        "print(character)                                      # 출력: e"
      ],
      "metadata": {
        "id": "NF8wwN65RcTJ"
      },
      "execution_count": null,
      "outputs": []
    },
    {
      "cell_type": "markdown",
      "source": [
        "3) 슬라이싱\n",
        "\n",
        "  : 문자열에서 일부분을 추출\n",
        "\n",
        "  콜론(:)을 사용하여 시작 인덱스와 끝 인덱스를 지정"
      ],
      "metadata": {
        "id": "iqLstNb4Rgcw"
      }
    },
    {
      "cell_type": "code",
      "source": [
        "string = \"Hello World!\"\n",
        "substring = string[6:11]\n",
        "print(substring)          # 출력: World"
      ],
      "metadata": {
        "id": "8fCOPC0ARiF5"
      },
      "execution_count": null,
      "outputs": []
    },
    {
      "cell_type": "markdown",
      "source": [
        "4) 포맷팅\n",
        "\n",
        ": 문자열 내에 변수나 값을 삽입\n",
        "\n",
        " %나 format() 메서드를 사용"
      ],
      "metadata": {
        "id": "JnMyyZ_9RoQ8"
      }
    },
    {
      "cell_type": "code",
      "source": [
        "name = \"John\"\n",
        "message = \"My name is %s\" % name\n",
        "print(message)            # 출력: My name is John"
      ],
      "metadata": {
        "id": "7P7MGST3RptW"
      },
      "execution_count": null,
      "outputs": []
    },
    {
      "cell_type": "markdown",
      "source": [
        "5) 검색\n",
        "\n",
        ": 특정 문자열이 문자열 내에 있는지 확인\n",
        "\n",
        " in 키워드를 사용하여 검색"
      ],
      "metadata": {
        "id": "OgoRy7IaRrMw"
      }
    },
    {
      "cell_type": "code",
      "source": [
        "string = \"Hello World!\"\n",
        "result = \"World\" in string\n",
        "print(result)             # 출력: True"
      ],
      "metadata": {
        "id": "nb6h5V5LRuAR"
      },
      "execution_count": null,
      "outputs": []
    },
    {
      "cell_type": "markdown",
      "source": [
        "6) 대체\n",
        "\n",
        ": 문자열 내에서 특정 패턴을 찾아 다른 패턴으로 대체\n",
        "\n",
        " replace() 매서드 사용"
      ],
      "metadata": {
        "id": "DC8GkOk7Rwrp"
      }
    },
    {
      "cell_type": "code",
      "source": [
        "string = \"Hello, World!\"\n",
        "new_string = string.replace(\"Hello\", \"Hi\")\n",
        "print(new_string)           # 출력: Hi, World!"
      ],
      "metadata": {
        "id": "MkhLmxBsRyl8"
      },
      "execution_count": null,
      "outputs": []
    },
    {
      "cell_type": "markdown",
      "source": [
        "#### **+**"
      ],
      "metadata": {
        "id": "bJnzfXalGID_"
      }
    },
    {
      "cell_type": "markdown",
      "source": [
        "* <백슬래시\\를 사용하여 특수문자를 인코딩>"
      ],
      "metadata": {
        "id": "u_xuS-XoQ7Wv"
      }
    },
    {
      "cell_type": "code",
      "source": [
        "tab_string = \"\\t\"                 #탭 문자를 나타냄\n",
        "len(tab_string)                   #1"
      ],
      "metadata": {
        "colab": {
          "base_uri": "https://localhost:8080/"
        },
        "id": "GECFAY1W8rI1",
        "outputId": "1e020807-5795-423b-91eb-9a01bda3fc35"
      },
      "execution_count": null,
      "outputs": [
        {
          "output_type": "execute_result",
          "data": {
            "text/plain": [
              "1"
            ]
          },
          "metadata": {},
          "execution_count": 22
        }
      ]
    },
    {
      "cell_type": "markdown",
      "source": [
        "* <백슬래시\\를 백슬래시\\로 사용하려는 경우 r\"\"을 사용하여 원시 문자열로 표현>"
      ],
      "metadata": {
        "id": "dUJgbDuq9X_h"
      }
    },
    {
      "cell_type": "code",
      "source": [
        "not_tab_string = r\"\\t\"            #문자\"\\\" 및 \"t\"를 나타냄\n",
        "len(not_tab_string)               #2"
      ],
      "metadata": {
        "colab": {
          "base_uri": "https://localhost:8080/"
        },
        "id": "K_nL3eAw99Dg",
        "outputId": "2e279145-8554-4b12-e16e-29fc3b18103a"
      },
      "execution_count": null,
      "outputs": [
        {
          "output_type": "execute_result",
          "data": {
            "text/plain": [
              "2"
            ]
          },
          "metadata": {},
          "execution_count": 24
        }
      ]
    },
    {
      "cell_type": "markdown",
      "source": [
        "* 세 개의 문자열 따옴표(\"\"\" \"\"\")를 사용하여 여러 줄 문자열을 만들 수 있음"
      ],
      "metadata": {
        "id": "GVrFilU6-Uqv"
      }
    },
    {
      "cell_type": "code",
      "source": [
        "multi_line_string = \"\"\" 첫 번째 줄입니다.\n",
        "                        두 번째 줄입니다.\n",
        "                        세 번째 줄입니다.\"\"\""
      ],
      "metadata": {
        "id": "9aVpllMY-qEj"
      },
      "execution_count": null,
      "outputs": []
    },
    {
      "cell_type": "markdown",
      "source": [
        "###예외 Exception"
      ],
      "metadata": {
        "id": "4VfX_daqGRMf"
      }
    },
    {
      "cell_type": "markdown",
      "source": [
        "* 코드 실행 중 발생하는 오류 상황\n",
        "\n",
        "  → try와 except를 사용하여 처리"
      ],
      "metadata": {
        "id": "i9-yJQ6u_HnG"
      }
    },
    {
      "cell_type": "code",
      "source": [
        "try:\n",
        "  print(0 / 0)\n",
        "except ZeroDivisionError:\n",
        "  print(\"cannot divide by zero\")        #0으로 나눌 수 없음"
      ],
      "metadata": {
        "colab": {
          "base_uri": "https://localhost:8080/"
        },
        "id": "CqXnk1u8oBiL",
        "outputId": "b14a8dd3-fe99-41b4-9414-c6c450299ac9"
      },
      "execution_count": null,
      "outputs": [
        {
          "output_type": "stream",
          "name": "stdout",
          "text": [
            "cannot divide by zero\n"
          ]
        }
      ]
    },
    {
      "cell_type": "markdown",
      "source": [
        "### **리스트 List**"
      ],
      "metadata": {
        "id": "kW3HKx3MGV6_"
      }
    },
    {
      "cell_type": "markdown",
      "source": [
        "* 여러 개의 요소(elements)를 저장하는 데이터 구조\n",
        "* 변경 가능, 같은 리스트 내에 서로 다른 데이터 타입의 요소를 포함할 수 있음\n",
        "* 대괄호[]로 둘러싸여 있으며, 각 요소는 쉼표,로 구분\n",
        "* 데이터를 순서대로 저장 및 접근\n",
        "* 필요에 따라 추가, 삭제, 변경 작업 가능"
      ],
      "metadata": {
        "id": "up-82JOpoaLP"
      }
    },
    {
      "cell_type": "markdown",
      "source": [
        "1) 리스트 생성"
      ],
      "metadata": {
        "id": "mvIu6mLiW4cp"
      }
    },
    {
      "cell_type": "code",
      "source": [
        "my_list = [1, 2, 3, 4, 5]"
      ],
      "metadata": {
        "id": "n_NB64ylW6lt"
      },
      "execution_count": null,
      "outputs": []
    },
    {
      "cell_type": "markdown",
      "source": [
        "2) 요소 접근\n",
        "\n",
        ": 리스트의 각 요소에는 인덱스(index)를 사용하여 접근\n",
        "\n",
        " 인덱스는 0부터 시작"
      ],
      "metadata": {
        "id": "_fRx-aOjXC6Z"
      }
    },
    {
      "cell_type": "code",
      "source": [
        "my_list = [1, 2, 3, 4, 5]\n",
        "print(my_list[0])                         #출력: 1"
      ],
      "metadata": {
        "colab": {
          "base_uri": "https://localhost:8080/"
        },
        "id": "0Phea_oEXEW7",
        "outputId": "af51e5ee-aac3-4b15-bf04-e6a7db207be3"
      },
      "execution_count": null,
      "outputs": [
        {
          "output_type": "stream",
          "name": "stdout",
          "text": [
            "1\n"
          ]
        }
      ]
    },
    {
      "cell_type": "markdown",
      "source": [
        "3) 요소 변경\n",
        "\n",
        ": 리스트는 변경 가능\n",
        "\n",
        " 특정 인덱스의 요소를 변경"
      ],
      "metadata": {
        "id": "EemT0f-VXbdQ"
      }
    },
    {
      "cell_type": "code",
      "source": [
        "my_list[2] = 10\n",
        "print(my_list)                            #출력: [1, 2, 10, 4, 5]"
      ],
      "metadata": {
        "colab": {
          "base_uri": "https://localhost:8080/"
        },
        "id": "ZaYYWE2yXi3T",
        "outputId": "00f79884-8016-48d5-be7c-9eb7e886cb76"
      },
      "execution_count": null,
      "outputs": [
        {
          "output_type": "stream",
          "name": "stdout",
          "text": [
            "[1, 2, 10, 4, 5]\n"
          ]
        }
      ]
    },
    {
      "cell_type": "markdown",
      "source": [
        "4) 리스트의 길이\n",
        "\n",
        ": len() 함수를 사용하여 요소의 개수 확인"
      ],
      "metadata": {
        "id": "YNNDhZvdYFjN"
      }
    },
    {
      "cell_type": "code",
      "source": [
        "length = len(my_list)\n",
        "print(length)               # 출력: 5"
      ],
      "metadata": {
        "colab": {
          "base_uri": "https://localhost:8080/"
        },
        "id": "CFURN4BwZLmT",
        "outputId": "d32438ef-80dc-49c8-be3c-c68ea9d246c0"
      },
      "execution_count": null,
      "outputs": [
        {
          "output_type": "stream",
          "name": "stdout",
          "text": [
            "5\n"
          ]
        }
      ]
    },
    {
      "cell_type": "markdown",
      "source": [
        "5) 리스트 추가\n",
        "\n",
        " :  append()메서드를 사용하여 리스트의 끝에 요소를 추가"
      ],
      "metadata": {
        "id": "-1QDQP49ZPvu"
      }
    },
    {
      "cell_type": "code",
      "source": [
        "my_list.append(6)\n",
        "print(my_list)                                  # 출력: [1, 2, 10, 4, 5, 6]"
      ],
      "metadata": {
        "colab": {
          "base_uri": "https://localhost:8080/"
        },
        "id": "ngiTiMCeZckl",
        "outputId": "5699b315-60a0-4d00-a2cf-7cf3ddf215e1"
      },
      "execution_count": null,
      "outputs": [
        {
          "output_type": "stream",
          "name": "stdout",
          "text": [
            "[1, 2, 10, 4, 5, 6]\n"
          ]
        }
      ]
    },
    {
      "cell_type": "markdown",
      "source": [
        "6) 리스트 삭제\n",
        "\n",
        ": remove()메서드를 사용하여 특정 요소 삭제"
      ],
      "metadata": {
        "id": "_kWpU7omaVfZ"
      }
    },
    {
      "cell_type": "code",
      "source": [
        "my_list.remove(4)\n",
        "print(my_list)                                    # 출력: [1, 2, 10, 5, 6]"
      ],
      "metadata": {
        "colab": {
          "base_uri": "https://localhost:8080/"
        },
        "id": "qcL5CFHUanTl",
        "outputId": "b4b71efe-e19d-4c0c-e830-1fadf9e1b6c8"
      },
      "execution_count": null,
      "outputs": [
        {
          "output_type": "stream",
          "name": "stdout",
          "text": [
            "[1, 2, 10, 5, 6]\n"
          ]
        }
      ]
    },
    {
      "cell_type": "markdown",
      "source": [
        "7) 리스트 슬라이싱\n",
        "\n",
        ": 리스트의 일부분을 추출"
      ],
      "metadata": {
        "id": "W-SRAL_CapTY"
      }
    },
    {
      "cell_type": "code",
      "source": [
        "sublist = my_list[1:3]\n",
        "print(sublist)                  # 출력: [2, 10]"
      ],
      "metadata": {
        "id": "MIW9_yumaw_4"
      },
      "execution_count": null,
      "outputs": []
    },
    {
      "cell_type": "code",
      "source": [
        "integer_list = [1, 2, 3]\n",
        "hetorogeneous_list = [\"string\", 0, 1, True]\n",
        "list_of_lists = [integer_list, hetorogeneous_list, []]\n",
        "\n",
        "list_length = len(integer_list)                                     #3\n",
        "print(list_length)\n",
        "list_sum = sum(integer_list)                                        #6\n",
        "print(list_sum)"
      ],
      "metadata": {
        "colab": {
          "base_uri": "https://localhost:8080/"
        },
        "id": "JzDLMF7cov2E",
        "outputId": "f4ca7dcd-53a1-433b-ed78-c4b04d55ce24"
      },
      "execution_count": null,
      "outputs": [
        {
          "output_type": "stream",
          "name": "stdout",
          "text": [
            "3\n",
            "6\n"
          ]
        }
      ]
    },
    {
      "cell_type": "markdown",
      "source": [
        "* 리스트 구성원을 확인하는 in 연산자"
      ],
      "metadata": {
        "id": "X_HIQyhptlzs"
      }
    },
    {
      "cell_type": "code",
      "source": [
        "1 in [1, 2, 3]                #True\n",
        "0 in [1, 2, 3]                #False"
      ],
      "metadata": {
        "colab": {
          "base_uri": "https://localhost:8080/"
        },
        "id": "WDx-S_P3tqZu",
        "outputId": "6b1b8030-8a1c-4b63-aeca-85b35b358439"
      },
      "execution_count": null,
      "outputs": [
        {
          "output_type": "execute_result",
          "data": {
            "text/plain": [
              "False"
            ]
          },
          "metadata": {},
          "execution_count": 21
        }
      ]
    },
    {
      "cell_type": "markdown",
      "source": [
        "* 리스트 연결"
      ],
      "metadata": {
        "id": "qsmTPuCNt6yl"
      }
    },
    {
      "cell_type": "code",
      "source": [
        "x = [1, 2, 3]\n",
        "x.extend([4, 5, 6])         #x = [1, 2, 3, 4, 5, 6]\n",
        "x"
      ],
      "metadata": {
        "colab": {
          "base_uri": "https://localhost:8080/"
        },
        "id": "dew4Bb8yt9IK",
        "outputId": "4dbb9b7f-104c-48e4-96fb-24769bfcae43"
      },
      "execution_count": null,
      "outputs": [
        {
          "output_type": "execute_result",
          "data": {
            "text/plain": [
              "[1, 2, 3, 4, 5, 6]"
            ]
          },
          "metadata": {},
          "execution_count": 25
        }
      ]
    },
    {
      "cell_type": "markdown",
      "source": [
        "* 수정하지 않고 리스트 추가"
      ],
      "metadata": {
        "id": "xiDgjurduJfx"
      }
    },
    {
      "cell_type": "code",
      "source": [
        "x = [1, 2, 3]\n",
        "y = x + [4, 5 ,6]\n",
        "y                         #y = [1, 2, 3, 4, 5, 6] / x는 변경되지 않음"
      ],
      "metadata": {
        "colab": {
          "base_uri": "https://localhost:8080/"
        },
        "id": "tTBSlJdzuQgF",
        "outputId": "23a85cb5-be35-41dd-f8c4-84411098cff6"
      },
      "execution_count": null,
      "outputs": [
        {
          "output_type": "execute_result",
          "data": {
            "text/plain": [
              "[1, 2, 3, 4, 5, 6]"
            ]
          },
          "metadata": {},
          "execution_count": 24
        }
      ]
    },
    {
      "cell_type": "markdown",
      "source": [
        "* 리스트 나누기"
      ],
      "metadata": {
        "id": "thNVLS6ivFJD"
      }
    },
    {
      "cell_type": "code",
      "source": [
        "x, y = [1, 2]           #x = 1, y = 2\n",
        "print(x)\n",
        "print(y)"
      ],
      "metadata": {
        "colab": {
          "base_uri": "https://localhost:8080/"
        },
        "id": "bXrbbB3jvHMc",
        "outputId": "9dc8046b-b713-4f12-8edb-f0c8b72a3f71"
      },
      "execution_count": null,
      "outputs": [
        {
          "output_type": "stream",
          "name": "stdout",
          "text": [
            "1\n",
            "2\n"
          ]
        }
      ]
    },
    {
      "cell_type": "markdown",
      "source": [
        "* 양쪽에 동일한 수의 요소가 없으면 ValueError 발생\n",
        "* 버릴 값은 밑줄 사용"
      ],
      "metadata": {
        "id": "xNvbSY30vQ-I"
      }
    },
    {
      "cell_type": "code",
      "source": [
        "_, y =[1, 2]            #y = 2\n",
        "y"
      ],
      "metadata": {
        "colab": {
          "base_uri": "https://localhost:8080/"
        },
        "id": "I9JYChQcvg04",
        "outputId": "459bc531-5ab8-44de-b525-3a55da0b4970"
      },
      "execution_count": null,
      "outputs": [
        {
          "output_type": "execute_result",
          "data": {
            "text/plain": [
              "2"
            ]
          },
          "metadata": {},
          "execution_count": 30
        }
      ]
    },
    {
      "cell_type": "markdown",
      "source": [
        "### **튜플 Tuple**"
      ],
      "metadata": {
        "id": "n1jayQ1aGjz3"
      }
    },
    {
      "cell_type": "markdown",
      "source": [
        "* 여러 개의 요소를 저장하는 데이터 구조\n",
        "* 리스트와의 차이점\n",
        "\n",
        "  - 변경 불가능\n",
        "  - 대괄호[] 대신 소괄호()로 쌓여 있음\n",
        "  - 쉼표,로 구분\n",
        "\n",
        "* 한 번 생성되면 그 값을 변경할 수 없음\n",
        "\n",
        "  -> 데이터의 불변성과 안정성을 보장"
      ],
      "metadata": {
        "id": "gZ2rPDbAv4n-"
      }
    },
    {
      "cell_type": "markdown",
      "source": [
        "1) 튜플 생성"
      ],
      "metadata": {
        "id": "tjcYLLkDcF_-"
      }
    },
    {
      "cell_type": "code",
      "source": [
        "my_tuple = (1, 2, 3, 4, 5)"
      ],
      "metadata": {
        "id": "H84JgeZhcISY"
      },
      "execution_count": null,
      "outputs": []
    },
    {
      "cell_type": "markdown",
      "source": [
        "2) 요소 접근\n",
        "\n",
        ": 튜플의 각 요소에는 인덱스(index)를 사용하여 접근 가능\n",
        "\n",
        " 인덱스는 0부터 시작"
      ],
      "metadata": {
        "id": "Rn3Yle8UcJO0"
      }
    },
    {
      "cell_type": "code",
      "source": [
        "print(my_tuple[0])  # 출력: 1"
      ],
      "metadata": {
        "id": "fBnRylNEcPyT"
      },
      "execution_count": null,
      "outputs": []
    },
    {
      "cell_type": "markdown",
      "source": [
        "3) 요소 변경 불가능\n",
        "\n",
        " : 튜플은 한 번 생성되면 그 값을 변경할 수 없음"
      ],
      "metadata": {
        "id": "FTenzWrkcQde"
      }
    },
    {
      "cell_type": "code",
      "source": [
        "my_tuple[2] = 10  # 오류 발생!"
      ],
      "metadata": {
        "id": "O0MYJf2acYRj"
      },
      "execution_count": null,
      "outputs": []
    },
    {
      "cell_type": "markdown",
      "source": [
        "4) 튜플 길이\n",
        "\n",
        " : len()함수로 튜플의 길이 확인 가능"
      ],
      "metadata": {
        "id": "3sj-FcjzcZ9R"
      }
    },
    {
      "cell_type": "code",
      "source": [
        "length = len(my_tuple)\n",
        "print(length)  # 출력: 5"
      ],
      "metadata": {
        "id": "TZawqk_ycf6p"
      },
      "execution_count": null,
      "outputs": []
    },
    {
      "cell_type": "markdown",
      "source": [
        "5) 튜플 언패킹\n",
        "\n",
        ": 튜플의 요소를 변수에 할당하여 개별적 접근 가능"
      ],
      "metadata": {
        "id": "Vo9nxxWqc9Kf"
      }
    },
    {
      "cell_type": "code",
      "source": [
        "a, b, c = my_tuple\n",
        "print(a, b, c)                            # 출력: 1 2 3"
      ],
      "metadata": {
        "id": "lqzUyayYhPfh",
        "colab": {
          "base_uri": "https://localhost:8080/"
        },
        "outputId": "1469c44b-5cba-49ca-8dc6-12784a677b18"
      },
      "execution_count": null,
      "outputs": [
        {
          "output_type": "stream",
          "name": "stdout",
          "text": [
            "1 2 3\n"
          ]
        }
      ]
    },
    {
      "cell_type": "markdown",
      "source": [
        "6) 튜플 사용 예시\n",
        "\n",
        "  - 여러 값을 반환하는 함수"
      ],
      "metadata": {
        "id": "ilm0v0SlhRTp"
      }
    },
    {
      "cell_type": "code",
      "source": [
        "def get_coordinates():\n",
        "    x = 10\n",
        "    y = 20\n",
        "    return x, y\n",
        "\n",
        "coordinates = get_coordinates()\n",
        "print(coordinates)  # 출력: (10, 20)"
      ],
      "metadata": {
        "id": "E-Z0WiaUhfrM"
      },
      "execution_count": null,
      "outputs": []
    },
    {
      "cell_type": "markdown",
      "source": [
        "* 튜플을 활용한 변수 교환"
      ],
      "metadata": {
        "id": "Jko7-B_ThjV2"
      }
    },
    {
      "cell_type": "code",
      "source": [
        "a = 10\n",
        "b = 20\n",
        "a, b = b, a\n",
        "print(a, b)  # 출력: 20 10"
      ],
      "metadata": {
        "id": "QEWuF-E2hlYf"
      },
      "execution_count": null,
      "outputs": []
    },
    {
      "cell_type": "markdown",
      "source": [
        "### **딕셔너리 dictionary**\n"
      ],
      "metadata": {
        "id": "i7mEoVfdGoY6"
      }
    },
    {
      "cell_type": "markdown",
      "source": [
        "* 카-값(key-value) 쌍으로 저장하는 데이터 구조\n",
        "* 변경 가능, 키를 사용하여 값에 접근\n",
        "* 중괄호{}로 둘러 쌓여 있고, 키-값 쌍은 콜론:으로 구분\n",
        "* 순서가 없는 데이터 구조 인덱스 대신 키를 사용하여 값을 찾음\n",
        "* 검색과 데이터 그룹화에 유용"
      ],
      "metadata": {
        "id": "b-ZavSvSyd15"
      }
    },
    {
      "cell_type": "markdown",
      "source": [
        "1) 딕셔너리 생성"
      ],
      "metadata": {
        "id": "hZHp1d6_i8Pn"
      }
    },
    {
      "cell_type": "code",
      "source": [
        "my_dict = {\"name\": \"John\", \"age\": 25, \"city\": \"New York\"}"
      ],
      "metadata": {
        "id": "niNw1FrMi9px"
      },
      "execution_count": null,
      "outputs": []
    },
    {
      "cell_type": "markdown",
      "source": [
        "2) 값 접근\n",
        "\n",
        " : 딕셔너리의 각 값에는 해당하는 키를 사용하여 접근"
      ],
      "metadata": {
        "id": "uO90G4Hqi_LN"
      }
    },
    {
      "cell_type": "code",
      "source": [
        "print(my_dict[\"name\"])  # 출력: John"
      ],
      "metadata": {
        "id": "L158vol-jCxF"
      },
      "execution_count": null,
      "outputs": []
    },
    {
      "cell_type": "markdown",
      "source": [
        "3) 값 변경\n",
        "\n",
        " : 딕셔너리는 변경 가능, 특정 키의 값을 변경할 수 있음"
      ],
      "metadata": {
        "id": "u_jN2YwBjEDI"
      }
    },
    {
      "cell_type": "code",
      "source": [
        "my_dict[\"age\"] = 30\n",
        "print(my_dict)  # 출력: {\"name\": \"John\", \"age\": 30, \"city\": \"New York\"}"
      ],
      "metadata": {
        "id": "loOkZsOsjJta"
      },
      "execution_count": null,
      "outputs": []
    },
    {
      "cell_type": "markdown",
      "source": [
        "4) 키-값 추가\n",
        " : 딕셔너리에 새로운 키-값 쌍을 추가"
      ],
      "metadata": {
        "id": "0bd15LOejLdm"
      }
    },
    {
      "cell_type": "code",
      "source": [
        "my_dict[\"country\"] = \"USA\"\n",
        "print(my_dict)  # 출력: {\"name\": \"John\", \"age\": 30, \"city\": \"New York\", \"country\": \"USA\"}"
      ],
      "metadata": {
        "id": "H7wdU2-zjwbM"
      },
      "execution_count": null,
      "outputs": []
    },
    {
      "cell_type": "markdown",
      "source": [
        "5) 키-값 삭제\n",
        "\n",
        " : del 키워드를 사용하여 특정 키-값 쌍을 삭제"
      ],
      "metadata": {
        "id": "cWridLsIjxld"
      }
    },
    {
      "cell_type": "code",
      "source": [
        "del my_dict[\"city\"]\n",
        "print(my_dict)  # 출력: {\"name\": \"John\", \"age\": 30, \"country\": \"USA\"}"
      ],
      "metadata": {
        "id": "i8r-QsE-j4QL"
      },
      "execution_count": null,
      "outputs": []
    },
    {
      "cell_type": "markdown",
      "source": [
        "6) 딕셔너리 순회\n",
        "\n",
        " : for 루프를 사용하여 딕셔너리의 모든 키-값 쌍을 순회"
      ],
      "metadata": {
        "id": "RV8hA1b4j5s6"
      }
    },
    {
      "cell_type": "code",
      "source": [
        "for key, value in my_dict.items():\n",
        "    print(key, value)"
      ],
      "metadata": {
        "id": "2pz9dwbSkHtS"
      },
      "execution_count": null,
      "outputs": []
    },
    {
      "cell_type": "markdown",
      "source": [
        "7) 키의 존재 확인\n",
        "\n",
        ": in 키워드를 사용하여 딕셔너리에 특정 키가 있는지 확인"
      ],
      "metadata": {
        "id": "EJODFA9ckJII"
      }
    },
    {
      "cell_type": "code",
      "source": [
        "if \"name\" in my_dict:\n",
        "    print(\"name 키가 존재합니다.\")"
      ],
      "metadata": {
        "id": "mrMODCTpkfHh"
      },
      "execution_count": null,
      "outputs": []
    },
    {
      "cell_type": "markdown",
      "source": [
        "* 구조화된 데이터를 나타내는 방법으로 자주 사용"
      ],
      "metadata": {
        "id": "XopzqmvDCqS7"
      }
    },
    {
      "cell_type": "code",
      "source": [
        "tweet = {\n",
        "    \"user\" : \"joelgrus\",\n",
        "    \"text\" : \"Data Science is Awesome\",\n",
        "    \"retweet_count\" : 100,\n",
        "    \"hashtags\" : [\"#data\", \"#science\", \"#datascience\", \"#awesome\", \"yolo\"]\n",
        "}"
      ],
      "metadata": {
        "id": "hD1hgDqQCuDS"
      },
      "execution_count": null,
      "outputs": []
    },
    {
      "cell_type": "markdown",
      "source": [
        "* 특정 키를 찾는 것 외에도 모든 키를 볼 수 있음"
      ],
      "metadata": {
        "id": "Avcg7xtuDeZn"
      }
    },
    {
      "cell_type": "code",
      "source": [
        "tweet_keys = tweet.keys()             #키 리스트\n",
        "tweet_values = tweet.values()         #값 리스트\n",
        "tweet_items = tweet.items()           #(키, 값) 튜플의 리스트\n",
        "\n",
        "\"user\" in tweet_keys                  #True\n",
        "\"user\" in tweet                       #True\n",
        "\"joelgrus\" in tweet_values            #True"
      ],
      "metadata": {
        "colab": {
          "base_uri": "https://localhost:8080/"
        },
        "id": "3lqwh3T2Ddr5",
        "outputId": "7176c5af-e4eb-406d-c243-e48b154e5f35"
      },
      "execution_count": null,
      "outputs": [
        {
          "output_type": "execute_result",
          "data": {
            "text/plain": [
              "True"
            ]
          },
          "metadata": {},
          "execution_count": 51
        }
      ]
    },
    {
      "cell_type": "markdown",
      "source": [
        "* 딕셔너리 키는 변경할 수 없음\n",
        "\n",
        "    특히 리스트를 키로 사용할 수 없음\n",
        "\n",
        "    그럴 경우, multipart 키가 필요함\n",
        "\n",
        "    튜플을 사용하거나, 문자열로 키를 돌리는 방법을 찾아야 함"
      ],
      "metadata": {
        "id": "4HkAC0gZEwSQ"
      }
    },
    {
      "cell_type": "markdown",
      "source": [
        "#### defaultdict() 유사 딕셔너리"
      ],
      "metadata": {
        "id": "boqFDPoHGvWJ"
      }
    },
    {
      "cell_type": "markdown",
      "source": [
        "* collections 모듈에 포함된 클래스, 딕셔너리의 확장된 버전\n",
        "* 기본값(default value)을 가진 딕셔너리 생성\n",
        "* 해당 키가 존재하지 않으면 자동으로 기본값 반환\n",
        "* 각 단어를 확인하고 이미 딕셔너리에 있는 경우 개수를 늘리고, 그렇지 않은 경우 딕셔너리에 추가할 수 있음"
      ],
      "metadata": {
        "id": "r3OJWsymFQ7-"
      }
    },
    {
      "cell_type": "markdown",
      "source": [
        "1) 기본값 설정\n",
        "\n",
        " : defaultdict을 사용하여 딕셔너리를 생성할 때, 기본값 타입을 지정\n",
        "\n",
        " 키에 접근할 때 해당 키가 존재하지 않으면 기본값으로 설정된 객체를 자동으로 생성"
      ],
      "metadata": {
        "id": "Sqa8P7C-oJGi"
      }
    },
    {
      "cell_type": "code",
      "source": [
        "from collections import defaultdict\n",
        "\n",
        "# 정수 기본값을 가진 defaultdict 생성\n",
        "my_dict = defaultdict(int)\n",
        "\n",
        "my_dict[\"a\"] = 1\n",
        "my_dict[\"b\"] = 2\n",
        "\n",
        "print(my_dict[\"a\"])                       # 출력: 1\n",
        "print(my_dict[\"b\"])                       # 출력: 2\n",
        "print(my_dict[\"c\"])                       # 출력: 0 (기본값으로 설정된 0 반환)"
      ],
      "metadata": {
        "id": "DtVZkKpnpEJL",
        "colab": {
          "base_uri": "https://localhost:8080/"
        },
        "outputId": "524c5110-3704-4015-80d5-a562934a5493"
      },
      "execution_count": null,
      "outputs": [
        {
          "output_type": "stream",
          "name": "stdout",
          "text": [
            "1\n",
            "2\n",
            "0\n"
          ]
        }
      ]
    },
    {
      "cell_type": "code",
      "source": [
        "from collections import defaultdict\n",
        "\n",
        "# defaultdict을 사용하여 빈 리스트로 초기화된 딕셔너리 생성\n",
        "my_dict = defaultdict(list)\n",
        "\n",
        "# 기존에 존재하지 않던 키에 값 추가\n",
        "my_dict['colors'].append('red')\n",
        "my_dict['colors'].append('blue')\n",
        "\n",
        "# 존재하지 않던 키에 접근하여 값 출력\n",
        "print(my_dict['colors'])                                                                      # 출력: ['red', 'blue']\n",
        "\n",
        "# 존재하지 않는 키에 접근하여도 기본값인 빈 리스트가 반환됨\n",
        "print(my_dict['numbers'])                                                                     # 출력: []\n"
      ],
      "metadata": {
        "colab": {
          "base_uri": "https://localhost:8080/"
        },
        "id": "mCfN7I1zI-90",
        "outputId": "8e4c1a40-c42c-48c9-d607-52e4753fad9e"
      },
      "execution_count": null,
      "outputs": [
        {
          "output_type": "stream",
          "name": "stdout",
          "text": [
            "['red', 'blue']\n",
            "[]\n"
          ]
        }
      ]
    },
    {
      "cell_type": "markdown",
      "source": [
        "* defaultdict()을 활용하면 딕셔너리에 키-값 쌍을 추가할 때마다 키의 존재 여부를 확인할 필요 없이 기본값을 자동으로 설정\n",
        "\n",
        "* 키의 존재 여부를 사전에 확인하지 않고 편리하게 딕셔너리를 사용할 수 있는 장점"
      ],
      "metadata": {
        "id": "Tdr0LDAqI9BF"
      }
    },
    {
      "cell_type": "markdown",
      "source": [
        "#### Counter"
      ],
      "metadata": {
        "id": "GqKXSzkBGzI_"
      }
    },
    {
      "cell_type": "markdown",
      "source": [
        "* 요소의 개수를 세어 딕셔너리 형태로 저장\n",
        "* 각 요소는 키(key)로 개수는 값(value)로 저장\n",
        "\n",
        "+일반적인 기능외에도 여러 유용한 메서드 제공 most_common"
      ],
      "metadata": {
        "id": "ckBLZvt-VGo_"
      }
    },
    {
      "cell_type": "code",
      "source": [
        "from collections import Counter\n",
        "\n",
        "my_list = [1, 2, 2, 3, 3, 3, 4, 4, 4, 4]\n",
        "\n",
        "my_counter = Counter(my_list)\n",
        "print(my_counter)  # 출력: Counter({4: 4, 3: 3, 2: 2, 1: 1})"
      ],
      "metadata": {
        "id": "tuNoGRHHtOxf"
      },
      "execution_count": null,
      "outputs": []
    },
    {
      "cell_type": "markdown",
      "source": [
        "* most_common 메서드"
      ],
      "metadata": {
        "id": "357BvoYqWoex"
      }
    },
    {
      "cell_type": "code",
      "source": [
        "my_counter = Counter([1, 1, 2, 2, 2, 3, 4, 5])\n",
        "print(my_counter.most_common(2))  # 출력: [(2, 3), (1, 2)]"
      ],
      "metadata": {
        "id": "hYxdP-gZXAXE"
      },
      "execution_count": null,
      "outputs": []
    },
    {
      "cell_type": "markdown",
      "source": [
        "### **집합 Set**"
      ],
      "metadata": {
        "id": "gHOC13LBG5Lv"
      }
    },
    {
      "cell_type": "markdown",
      "source": [
        "* 고유한(중복이 없는) 요소들로 구성된 변경 가능한 데이터 컬렉션\n",
        "* 순서가 없으며, 중괄호{}를 사용"
      ],
      "metadata": {
        "id": "YfBeWsmcYBx3"
      }
    },
    {
      "cell_type": "markdown",
      "source": [
        "1) Set 생성"
      ],
      "metadata": {
        "id": "rjQQ-WxtzJwB"
      }
    },
    {
      "cell_type": "code",
      "source": [
        "my_set = {1, 2, 3}\n",
        "my_set = set([1, 2, 3])"
      ],
      "metadata": {
        "id": "J9YAOaH2zPio"
      },
      "execution_count": null,
      "outputs": []
    },
    {
      "cell_type": "markdown",
      "source": [
        "2) 중복된 요소 제거\n",
        " : Set은 중복된 값을 허용하지 않으므로, 중복된 요소를 추가하면 자동으로 제거됨"
      ],
      "metadata": {
        "id": "JiuaYIAHzSPJ"
      }
    },
    {
      "cell_type": "code",
      "source": [
        "my_set = {1, 2, 2, 3, 3, 3}\n",
        "print(my_set)                 # 출력: {1, 2, 3}"
      ],
      "metadata": {
        "id": "jq_fmgBPzRaM"
      },
      "execution_count": null,
      "outputs": []
    },
    {
      "cell_type": "markdown",
      "source": [
        "3) 값 추가 및 삭제\n",
        "\n",
        " * add() : 값 추가\n",
        " * remove() : 값 삭제"
      ],
      "metadata": {
        "id": "gVq1uFNezjEX"
      }
    },
    {
      "cell_type": "code",
      "source": [
        "my_set = {1, 2, 3}\n",
        "my_set.add(4)\n",
        "print(my_set)                                   # 출력: {1, 2, 3, 4}\n",
        "\n",
        "my_set.remove(2)\n",
        "print(my_set)                                   # 출력: {1, 3, 4}"
      ],
      "metadata": {
        "id": "ktc1miF10QE9",
        "colab": {
          "base_uri": "https://localhost:8080/"
        },
        "outputId": "51f29c59-b51c-40aa-ed9e-317674fca2f6"
      },
      "execution_count": null,
      "outputs": [
        {
          "output_type": "stream",
          "name": "stdout",
          "text": [
            "{1, 2, 3, 4}\n",
            "{1, 3, 4}\n"
          ]
        }
      ]
    },
    {
      "cell_type": "markdown",
      "source": [
        "4) 집합 연산\n",
        "\n",
        "* 합집합\n",
        "* 교집합\n",
        "* 차집합"
      ],
      "metadata": {
        "id": "YugWVjAT0sSh"
      }
    },
    {
      "cell_type": "code",
      "source": [
        "set1 = {1, 2, 3}\n",
        "set2 = {3, 4, 5}\n",
        "\n",
        "union_set = set1 | set2               # 합집합\n",
        "intersection_set = set1 & set2        # 교집합\n",
        "difference_set = set1 - set2          # 차집합\n",
        "\n",
        "print(union_set)                                                      # 출력: {1, 2, 3, 4, 5}\n",
        "print(intersection_set)                                               # 출력: {3}\n",
        "print(difference_set)                                                 # 출력: {1, 2}"
      ],
      "metadata": {
        "id": "1Wl8PF3101Bo",
        "colab": {
          "base_uri": "https://localhost:8080/"
        },
        "outputId": "61e3642d-4f3c-49ed-fa38-dead3372837f"
      },
      "execution_count": null,
      "outputs": [
        {
          "output_type": "stream",
          "name": "stdout",
          "text": [
            "{1, 2, 3, 4, 5}\n",
            "{3}\n",
            "{1, 2}\n"
          ]
        }
      ]
    },
    {
      "cell_type": "markdown",
      "source": [
        "* 세트를 사용하는 이유\n",
        "\n",
        "    1) in이 매우 빨리 작업됨\n",
        "    \n",
        "    2) collection에서 고유 항목을 찾을 수 있음"
      ],
      "metadata": {
        "id": "3PI8sCUbYqzr"
      }
    },
    {
      "cell_type": "code",
      "source": [
        "#1)\n",
        "hundreds_of_other_words = []\n",
        "stopwords_list = [\"a\", \"an\", \"at\"] + hundreds_of_other_words + [\"yet\", \"you\"]\n",
        "\n",
        "\"zip\" in stopwords_list                 #False / 그러나, 모든 요소를 확인해야 함\n",
        "\n",
        "stopwords_set = set(stopwords_list)\n",
        "\"zip\" in stopwords_list                 #False / 더 빠르게 확인할 수 있음\n",
        "\n",
        "\n",
        "#2)\n",
        "item_list = [1, 2, 3, 1, 2, 3]\n",
        "num_items = len(item_list)              #6\n",
        "item_set = set(item_list)               #{1, 2, 3}\n",
        "num_distinct_items = len(item_set)      #3\n",
        "distinct_item_list = list(item_set)     #{1, 2, 3}"
      ],
      "metadata": {
        "id": "lhWQWUPWZGl9"
      },
      "execution_count": null,
      "outputs": []
    },
    {
      "cell_type": "markdown",
      "source": [
        "### **Control Flow**"
      ],
      "metadata": {
        "id": "y6zJMq3eG_jm"
      }
    },
    {
      "cell_type": "markdown",
      "source": [
        "#### 조건부 if\n",
        "\n",
        "  - 조건식 참(True)인지 거짓(False)인지에 따라 다른 동작을 수행\n",
        "  - if, elif(else if), else"
      ],
      "metadata": {
        "id": "U3Ll7ff0wr9v"
      }
    },
    {
      "cell_type": "code",
      "source": [
        "if 1 > 2:\n",
        "  message = \"if 1보다 2가 크다면.\"\n",
        "elif 1 > 3:\n",
        "  message = \"elifs는 'else if를 뜻함'\"\n",
        "else:\n",
        "  message = \"다른 모든 조건에 맞지 않을 경우 else를 사용 (필요한 경우)\""
      ],
      "metadata": {
        "id": "pcoDl5tgvD-C"
      },
      "execution_count": null,
      "outputs": []
    },
    {
      "cell_type": "markdown",
      "source": [
        "* if-then-else를 한 줄에 작성할 수 있음\n",
        "\n",
        "\n",
        "```\n",
        "parity = \"even\" if x % 2 == 0 else \"odd\"\n",
        "```"
      ],
      "metadata": {
        "id": "gNzzpwDJxvTH"
      }
    },
    {
      "cell_type": "markdown",
      "source": [
        "#### 반복문(for문, while문)\n",
        "\n",
        " : 동일한 작업을 여러 번 수행\n",
        "\n",
        "  - for문\n",
        "\n",
        "     : 주어진 시퀀스(리스트, 문자열, 튜플 등)의 각 요소에 대해 반복 작업을 수행\n",
        "\n",
        "          for 요소 in 시퀀스:\n",
        "            #요소에 대한 작업 수행\n",
        "  - while문\n",
        "\n",
        "    : 주어진 조건식이 참일 동안 반복 작업 수행\n",
        "\n",
        "          while 조건식:\n",
        "            #조건식이 참일 때 수행할 작업\n"
      ],
      "metadata": {
        "id": "UT7greKdyGb9"
      }
    },
    {
      "cell_type": "markdown",
      "source": [
        "#### 예외 처리문(try - except문)\n",
        "\n",
        " : 예외 상황을 처리하는 데 사용\n",
        "\n",
        "  예외가 발생할 수 있는 코드 블록 try블록으로,\n",
        "\n",
        "  예외가 발생했을 때 처리할 코드를 except블록에 작성\n",
        "\n",
        "        try:\n",
        "          #예외가 발생할 수 있는 코드\n",
        "        except:\n",
        "          #예외가 발생했을 때 처리할 코드"
      ],
      "metadata": {
        "id": "QuURSnU67CFt"
      }
    },
    {
      "cell_type": "markdown",
      "source": [
        "### **참과 거짓 Truthiness**\n",
        "\n",
        "* python에서의 boolean은 대문자로 표시됨"
      ],
      "metadata": {
        "id": "a8XVhMtSz-MP"
      }
    },
    {
      "cell_type": "code",
      "source": [
        "one_is_less_than_two = 1 < 2                    #True\n",
        "print(one_is_less_than_two)\n",
        "true_equals_false = True == False               #False\n",
        "print(true_equals_false)"
      ],
      "metadata": {
        "id": "WyvLKdCv0M6m",
        "colab": {
          "base_uri": "https://localhost:8080/"
        },
        "outputId": "445b7f82-8db7-4d76-b36d-75e2825e4efd"
      },
      "execution_count": null,
      "outputs": [
        {
          "output_type": "stream",
          "name": "stdout",
          "text": [
            "True\n",
            "False\n"
          ]
        }
      ]
    },
    {
      "cell_type": "code",
      "source": [
        "my_list = [1, 2, 3]\n",
        "result = bool(my_list)\n",
        "print(result)"
      ],
      "metadata": {
        "colab": {
          "base_uri": "https://localhost:8080/"
        },
        "id": "8_ac5xFFjA7o",
        "outputId": "f4dbc882-4ebb-4160-e916-761a20ff82e7"
      },
      "execution_count": null,
      "outputs": [
        {
          "output_type": "stream",
          "name": "stdout",
          "text": [
            "True\n"
          ]
        }
      ]
    },
    {
      "cell_type": "code",
      "source": [
        "my_string = \"\"\n",
        "result = bool(my_string)\n",
        "print(result)"
      ],
      "metadata": {
        "colab": {
          "base_uri": "https://localhost:8080/"
        },
        "id": "NaCGW48Zh2Jz",
        "outputId": "fa8aec88-e39b-40f6-a33a-8dd539687c83"
      },
      "execution_count": null,
      "outputs": [
        {
          "output_type": "stream",
          "name": "stdout",
          "text": [
            "False\n"
          ]
        }
      ]
    },
    {
      "cell_type": "markdown",
      "source": [
        "* none = 존재하지 않는 값\n",
        "\n",
        "  (다른 언어에서의 null과 같은 의미)"
      ],
      "metadata": {
        "id": "45zP64Az0dl-"
      }
    },
    {
      "cell_type": "markdown",
      "source": [
        "* 참(True)으로 간주되는 값\n",
        "\n",
        "  - Ture\n",
        "\n",
        "    : boolean 타입의 참 값\n",
        "\n",
        "  - 비어 있지 않은 컨테이너\n",
        "\n",
        "    : 리스트, 튜플, 세트 등 비어 있지 않은 컨테이너는 참\n",
        "\n",
        "  - 0 이외의 숫자\n",
        "\n",
        "    : 이외의 모든 숫자\n",
        "\n",
        "  - 문자열\n",
        "\n",
        "    : 비어 있지 않은 문자열"
      ],
      "metadata": {
        "id": "xzhT2ggO7v5b"
      }
    },
    {
      "cell_type": "markdown",
      "source": [
        "* 거짓(False)으로 간주되는 값\n",
        "\n",
        "  - False\n",
        "  \n",
        "    : boolean 타입의 거짓 값\n",
        "    \n",
        "  - None\n",
        "    \n",
        "    : 값이 없음을 나타내는 상수\n",
        "\n",
        "  - 비어 있는 컨테이너\n",
        "  \n",
        "    : 비어 있는 리스트, 튜플, 세트 등은 거짓\n",
        "\n",
        "  - \" \"\n",
        "  \n",
        "    : 문자가 없는 빈 문자열\n",
        "\n",
        "  - 0\n",
        "  \n",
        "    : 정수 0\n",
        "\n",
        "  - 0.0\n",
        "    \n",
        "    : 부동 소수점 0.0"
      ],
      "metadata": {
        "id": "zSvZl5II1EUy"
      }
    },
    {
      "cell_type": "markdown",
      "source": [
        "* all 함수\n",
        "\n",
        "  - 모든 요소가 참일 때 True\n",
        "  - 하나라도 거짓인 요소가 있으면 False\n"
      ],
      "metadata": {
        "id": "uHFuqOcS2fbg"
      }
    },
    {
      "cell_type": "code",
      "source": [
        "numbers = [1, 2, 3, 4, 5]\n",
        "result = all(num > 0 for num in numbers)\n",
        "print(result)                                         # 출력: True"
      ],
      "metadata": {
        "id": "veGvpUgp9F1z",
        "colab": {
          "base_uri": "https://localhost:8080/"
        },
        "outputId": "9f15fd25-87b3-4dbe-e828-ae23f2db0a36"
      },
      "execution_count": null,
      "outputs": [
        {
          "output_type": "stream",
          "name": "stdout",
          "text": [
            "True\n"
          ]
        }
      ]
    },
    {
      "cell_type": "markdown",
      "source": [
        "* any 함수\n",
        "\n",
        " - 적어도 하나의 요소가 참일 때 True\n",
        " - 모든 요소가 거짓일 때 False"
      ],
      "metadata": {
        "id": "QdtAYsS-22ay"
      }
    },
    {
      "cell_type": "code",
      "source": [
        "numbers = [2, 4, 6, 7, 8]\n",
        "result = any(num % 2 != 0 for num in numbers)\n",
        "print(result)                                           # 출력: True"
      ],
      "metadata": {
        "id": "eKViU99q9MMI",
        "colab": {
          "base_uri": "https://localhost:8080/"
        },
        "outputId": "9154aca2-7f37-439a-8591-d740f203a7eb"
      },
      "execution_count": null,
      "outputs": [
        {
          "output_type": "stream",
          "name": "stdout",
          "text": [
            "True\n"
          ]
        }
      ]
    },
    {
      "cell_type": "markdown",
      "source": [
        "### **Python 고급 기능**"
      ],
      "metadata": {
        "id": "f-cb4I5m44r0"
      }
    },
    {
      "cell_type": "markdown",
      "source": [
        "#### 정렬 Sort\n",
        "\n",
        "  - 리스트 요소를 정렬하는 기능을 제공\n",
        "  - 기본적으로 숫자형이나 문자열 요소 정렬\n"
      ],
      "metadata": {
        "id": "nI5YgVI94-Hu"
      }
    },
    {
      "cell_type": "code",
      "source": [
        "my_list = [4, 2, 1, 3]\n",
        "my_list.sort()\n",
        "print(my_list)  # 출력: [1, 2, 3, 4]\n",
        "\n",
        "my_str_list = ['banana', 'apple', 'cherry']\n",
        "my_str_list.sort()\n",
        "print(my_str_list)  # 출력: ['apple', 'banana', 'cherry']"
      ],
      "metadata": {
        "colab": {
          "base_uri": "https://localhost:8080/"
        },
        "id": "JC4FBtuO6JC2",
        "outputId": "7a5460b4-ea42-4e18-96d3-c908e9038dee"
      },
      "execution_count": null,
      "outputs": [
        {
          "output_type": "stream",
          "name": "stdout",
          "text": [
            "[1, 2, 3, 4]\n",
            "['apple', 'banana', 'cherry']\n"
          ]
        }
      ]
    },
    {
      "cell_type": "markdown",
      "source": [
        "- 기본적으로 오름차순으로 정렬\n",
        "- 내림차순으로 정렬 시 sort() 함수의 reverse 매개변수를 True 설정"
      ],
      "metadata": {
        "id": "e-R8S6ln6X8N"
      }
    },
    {
      "cell_type": "code",
      "source": [
        "my_list = [4, 2, 1, 3]\n",
        "my_list.sort(reverse=True)\n",
        "print(my_list)  # 출력: [4, 3, 2, 1]\n",
        "\n",
        "my_str_list = ['banana', 'apple', 'cherry']\n",
        "my_str_list.sort(reverse=True)\n",
        "print(my_str_list)  # 출력: ['cherry', 'banana', 'apple']"
      ],
      "metadata": {
        "colab": {
          "base_uri": "https://localhost:8080/"
        },
        "id": "yoL6Yj6q6U2x",
        "outputId": "cb5d0c45-8ad4-485c-95d5-db065b6bb7d6"
      },
      "execution_count": null,
      "outputs": [
        {
          "output_type": "stream",
          "name": "stdout",
          "text": [
            "[4, 3, 2, 1]\n",
            "['cherry', 'banana', 'apple']\n"
          ]
        }
      ]
    },
    {
      "cell_type": "markdown",
      "source": [
        "* List Comprehensions 리스트 내포\n",
        "\n",
        " - 기존의 반복문과 조건문을 결합하여 한 줄로 리스트를 생성\n",
        "\n",
        "        new_list = [표현식 for 요소 in 반복 가능한 객체 if 조건식]\n",
        "\n",
        "    - 표현식 : 각 요소에 대해 평가되어 리스트에 추가될 값\n",
        "    - 요소 : 반복 가능한 객체의 각 요소\n",
        "    - 반복 가능한 객체 : 리스트, 튜플, 세트, 문자열 등과 같은 반복 가능한 객체\n",
        "    - 조건식 : 필요한 경우 요소에 대한 추가 조건 지정(선택 사항)\n",
        "\n",
        " - 반복문과 조건문을 한 줄로 간결하게 표현할 수 있으며, 코드의 가독성과 효율성을 향상시킬 수 있음"
      ],
      "metadata": {
        "id": "GGV0vnRo-VGk"
      }
    },
    {
      "cell_type": "code",
      "source": [
        "# 리스트 생성하는 예시\n",
        "numbers = [1, 2, 3, 4, 5]\n",
        "squared_numbers = [num ** 2 for num in numbers]         #numbers의 각 요소에 제곱값을 계산하여 squared_numbers 리스트 생성\n",
        "print(squared_numbers)  # 출력: [1, 4, 9, 16, 25]"
      ],
      "metadata": {
        "id": "oWXlU1sWAH2J"
      },
      "execution_count": null,
      "outputs": []
    },
    {
      "cell_type": "code",
      "source": [
        "# 홀수만을 선택하는 경우\n",
        "numbers = [1, 2, 3, 4, 5]\n",
        "odd_numbers = [num for num in numbers if num % 2 != 0]  #numbers의 요소 중에서 홀수인 경우에만 해당 요소를 선택하여 odd_numbers 리스트 생성\n",
        "print(odd_numbers)  # 출력: [1, 3, 5]"
      ],
      "metadata": {
        "id": "-WALsNNaAZBN"
      },
      "execution_count": null,
      "outputs": []
    },
    {
      "cell_type": "markdown",
      "source": [
        "#### 이터레이터(Iterator)\n",
        "  \n",
        "  : 데이터 컬렉션(리스트, 튜플, 딕셔너리)을 순회하고 각 요소에 접근할 수 있는 객체\n",
        "   \n",
        "   - iter()함수로 생성됨\n",
        "   - __iter__() 메서드와 __next__() 메서드를 구현한 객체\n",
        "   - __next__() 메서드를 호출할 때마다 다음 요소를 반환\n",
        "   - 데이터 끝에 도달하면 StopIteration 예외 발생"
      ],
      "metadata": {
        "id": "hiqjqGeoAHVg"
      }
    },
    {
      "cell_type": "code",
      "source": [
        "my_list = [1, 2, 3, 4, 5]\n",
        "my_iterator = iter(my_list)\n",
        "print(next(my_iterator))                                          # 출력: 1\n",
        "print(next(my_iterator))                                          # 출력: 2\n",
        "# 나머지 요소들에 대해 반복적으로 next() 호출 가능"
      ],
      "metadata": {
        "id": "T4CRnUGYCgfa",
        "colab": {
          "base_uri": "https://localhost:8080/"
        },
        "outputId": "4845a826-a1b9-4ffa-fa2b-f6248dbb9149"
      },
      "execution_count": null,
      "outputs": [
        {
          "output_type": "stream",
          "name": "stdout",
          "text": [
            "1\n",
            "2\n"
          ]
        }
      ]
    },
    {
      "cell_type": "markdown",
      "source": [
        "for 루프에서 사용될 수 있어 데이터 컬렉션을 간편하게 순회할 수 있게 함"
      ],
      "metadata": {
        "id": "bAZBtOEGCkJX"
      }
    },
    {
      "cell_type": "markdown",
      "source": [
        "#### 제너레이터(Generator)\n",
        "\n",
        " : 이터레이터를 생성하는 함수\n",
        "  \n",
        "  - 이터레이터를 만들기 위해 yield 키워드를 사용하여 값을 반환하고 함수의 상태를 보존\n",
        "  - 호출될 때마다 이터레이터를 반환\n",
        "  - 함수의 실행이 일시 중단되고 다음 호출 시에 이전 상태를 유지"
      ],
      "metadata": {
        "id": "CrUtNE7oCpkO"
      }
    },
    {
      "cell_type": "code",
      "source": [
        "#1부터 5까지 숫자를 반환하는 제너레이터 함수\n",
        "def number_generator():\n",
        "    for i in range(1, 6):\n",
        "        yield i\n",
        "\n",
        "my_generator = number_generator()\n",
        "print(next(my_generator))                                       # 출력: 1\n",
        "print(next(my_generator))                                       # 출력: 2\n",
        "# 나머지 값들에 대해 반복적으로 next() 호출 가능"
      ],
      "metadata": {
        "colab": {
          "base_uri": "https://localhost:8080/"
        },
        "id": "y7xbTPbDDk5V",
        "outputId": "85af9774-122c-4c9d-a2db-24c09ae1488d"
      },
      "execution_count": null,
      "outputs": [
        {
          "output_type": "stream",
          "name": "stdout",
          "text": [
            "1\n",
            "2\n"
          ]
        }
      ]
    },
    {
      "cell_type": "markdown",
      "source": [
        "메모리를 효율적으로 사용하고, 필요한 경우에만 값을 생성하므로 큰 데이터 세트에 유용\n",
        "for 루프에서 사용될 수 있음"
      ],
      "metadata": {
        "id": "2hlTeiroEIq4"
      }
    },
    {
      "cell_type": "markdown",
      "source": [
        "#### 임의성(Randomness)\n",
        " : random 모듈을 사용하여 난수를 생성하고 예측할 수 없는 결과를 제공"
      ],
      "metadata": {
        "id": "ad7jaxfDEVbK"
      }
    },
    {
      "cell_type": "markdown",
      "source": [
        "\n",
        "\n",
        "> random 모듈은 다양한 함수와 기능을 제공하여 임의성을 활용할 수 있게 해 줌\n",
        "   - random() : 0 이상 1 미만의 부동소수점 난수를 반환\n",
        "   - randint(a, b) : a 이상 b 이하의 정수 난수를 반환\n",
        "   - choice(seq) : 시퀀스(seq)에서 임의의 요소를 선택하여 반환\n",
        "   - shuffle(seq) : 시퀀스(seq)의 요소를 임의의 순서로 섞음\n",
        "   - sample(population, k) : populatoin에서 중복되지 않는 k개의 요소를 임의로 선택하여 리스트로 반환\n",
        "\n"
      ],
      "metadata": {
        "id": "FSwoxriIE1e0"
      }
    },
    {
      "cell_type": "code",
      "source": [
        "import random\n",
        "\n",
        "# 0 이상 1 미만의 부동소수점 난수 생성\n",
        "print(random.random())\n",
        "\n",
        "# 1 이상 6 이하의 정수 난수 생성\n",
        "print(random.randint(1, 6))\n",
        "\n",
        "# 리스트에서 임의의 요소 선택\n",
        "fruits = ['apple', 'banana', 'cherry']\n",
        "print(random.choice(fruits))\n",
        "\n",
        "# 리스트의 요소 순서를 임의로 섞음\n",
        "cards = ['A', '2', '3', '4', '5', '6', '7', '8', '9', '10', 'J', 'Q', 'K']\n",
        "random.shuffle(cards)\n",
        "print(cards)\n",
        "\n",
        "# population에서 중복되지 않는 3개의 요소를 임의로 선택\n",
        "numbers = [1, 2, 3, 4, 5, 6, 7, 8, 9, 10]\n",
        "random_sample = random.sample(numbers, 3)\n",
        "print(random_sample)"
      ],
      "metadata": {
        "id": "vEVGe7zNFX9Z",
        "colab": {
          "base_uri": "https://localhost:8080/"
        },
        "outputId": "7fc2e1c6-eac4-49fd-e6d5-cf96a9cd094f"
      },
      "execution_count": null,
      "outputs": [
        {
          "output_type": "stream",
          "name": "stdout",
          "text": [
            "0.4720467599096265\n",
            "4\n",
            "cherry\n",
            "['J', '9', 'K', '5', 'A', '4', '2', '10', '8', '7', '3', '6', 'Q']\n",
            "[1, 9, 10]\n"
          ]
        }
      ]
    },
    {
      "cell_type": "markdown",
      "source": [
        "#### 정규식(Regular Expressions)\n",
        "\n",
        " : 문자열 패턴을 표현하고 검색, 매칭, 치환 등의 작업을 수행하는 도구\n",
        "\n",
        " - re 모듈을 사용하여 정규실을 처리할 수 있음\n",
        " - 다양한 메타문자와 특수 시퀀스를 사용하여 표현\n",
        "\n",
        "\n",
        "\n",
        "\n",
        "> 주요한 정규식 패턴\n",
        "\n",
        "  1. 단순 문자열 매칭\n",
        "    \n",
        "    : 문자열에서 특정한 문자열을 찾음\n",
        "\n",
        "      ex) 'apple'은 문자열에서 \"apple\"이라는 단어를 찾음\n",
        "\n",
        "  2. 메타 문자\n",
        "    - .(점) : 어떤 문자와도 매칭\n",
        "\n",
        "      ex) 'a.e'는 \"ape\", \"are\", \"axe\"와 매칭\n",
        "    - ^(캐럿) : 문자열의 시작과 매칭\n",
        "    \n",
        "      ex) '^a'은 \"apple\"에서 매칭\n",
        "\n",
        "    - $(달러 기호) : 문자열의 끝과 매칭\n",
        "\n",
        "      ex) 'le$'는 \"apple\"에서 매칭\n",
        "\n",
        "  3. 문자 집합\n",
        "    \n",
        "    : 여러 문자 중 하나와 매칭\n",
        "\n",
        "    - 대괄호[]를 사용해 표현\n",
        "\n",
        "      ex) '[aeiou]'는 모음(a, e, i, o, u)와 매칭\n",
        "\n",
        "  4. 수량자\n",
        "\n",
        "    - '*' : 바로 앞의 문자가 0번 이상 반복되는 패턴과 매칭\n",
        "\n",
        "    - '+' : 바로 앞의 문자가 1번 이상 반복되는 패턴과 매칭\n",
        "\n",
        "    - '?' : 바로 앞의 문자가 0 또는 1번 등장하는 패턴과 매칭\n",
        "\n",
        "정규식을 사용하는 예시\n",
        "\n",
        "\n",
        "\n",
        "\n",
        "\n"
      ],
      "metadata": {
        "id": "4sSepVByFa2W"
      }
    },
    {
      "cell_type": "code",
      "source": [
        "import re\n",
        "\n",
        "# 패턴에 매칭되는지 확인\n",
        "pattern = r\"apple\"\n",
        "text = \"I have an apple\"\n",
        "match = re.search(pattern, text)\n",
        "if match:\n",
        "    print(\"매칭되었습니다.\")\n",
        "else:\n",
        "    print(\"매칭되지 않았습니다.\")\n",
        "\n",
        "# 패턴으로 문자열 분할\n",
        "pattern = r\"[,;\\s]+\"  # 쉼표, 세미콜론, 공백으로 분할\n",
        "text = \"apple,banana;cherry grape\"\n",
        "result = re.split(pattern, text)\n",
        "print(result)  # ['apple', 'banana', 'cherry', 'grape']\n",
        "\n",
        "# 패턴으로 문자열 치환\n",
        "pattern = r\"apple\"\n",
        "text = \"I have an apple\"\n",
        "result = re.sub(pattern, \"orange\", text)\n",
        "print(result)  # \"I have an orange\""
      ],
      "metadata": {
        "id": "aNCr8z1UJZf6"
      },
      "execution_count": null,
      "outputs": []
    },
    {
      "cell_type": "markdown",
      "source": [
        "#### 객체 지향 프로그램 Object-Oriented Programming)\n",
        "\n",
        " : 프로그램을 독립적인 객체들의 집합으로 구성하는 프로그래밍 패러다임\n",
        "\n",
        " - 프로그램의 구성 요소를 객체(Object)로 모델링하고, 이 객체들 간의 상호작용을 통해 프로그램을 구현\n",
        "\n",
        " - 각각의 객체는 데이터와 그 데이터를 처리하기 위한 동작을 포함하며, 객체들은 클래스(Class)라는 템플릿 기반으로 생성"
      ],
      "metadata": {
        "id": "5eXo0tcXJfPo"
      }
    },
    {
      "cell_type": "markdown",
      "source": [
        "객체 지향 프로그래밍의 주요 개념\n",
        "\n",
        "1. 클래스(Class)\n",
        "\n",
        " - 객체를 생성하기 위한 템플릿 또는 설계도\n",
        "   \n",
        " - 속성과 메서드를 정의\n",
        "\n",
        "2. 객체(Object)\n",
        "\n",
        " - 클래스를 기반으로 생성된 인스턴스\n",
        "\n",
        " - 각각의 객체는 독립적인 상태를 가지며, 클래스에서 정의된 메서드를 호출하여 동작\n",
        "\n",
        "3. 상속(Ingeritance)\n",
        "\n",
        " - 클래스는 다른 클래스로부터 속성과 메서드를 상속받을 수 있음\n",
        "\n",
        " - 코드의 재사용성을 높이고 클래스 간의 계층 구조를 형성\n",
        "\n",
        "4. 다형성(Polymorphism)\n",
        "\n",
        " - 여러 개의 클래스가 동일한 메서드 이름을 가지고 있을 때, 각각의 클래스에 맞게 다르게 동작\n",
        "\n",
        " - 코드의 유연성과 확장성을 높임\n",
        "\n",
        "5. 캡슐화(Encapsulation)\n",
        "\n",
        " - 객체의 상태와 행동을 하나의 단위로 묶어 외부에서 직접적인 접근을 제한\n",
        "\n",
        "  - 객체의 내부 구현을 숨기고 데이터의 무결성을 보장"
      ],
      "metadata": {
        "id": "AWjP-17HKgxl"
      }
    },
    {
      "cell_type": "markdown",
      "source": [
        "* functools 모듈\n",
        "\n",
        " - 파이썬의 내장 모듈로, 함수형 프로그래밍을 지원하는 유용한 도구 제공\n",
        "\n",
        "* functools 모듈의 주요 기능\n",
        "\n",
        "  - partial\n",
        "\n",
        "      - 함수의 일부 인자를 고정하여 새로운 함수를 생성\n",
        "      - 기존 함수를 더 작은 인자 세트로 호출\n",
        "  - wraps\n",
        "\n",
        "      - 데코레이터를 작성할 때 사용되는 함수\n",
        "      - 데코레이터를 적용하면 함수의 메타데이터(예: 이름, 독스트링)가 변경되는데, wraps를 사용하면 이러한 메타데이터를 원래 함수로부터 가져올 수 있음\n",
        "  - Iru_cache\n",
        "\n",
        "      - 함수의 결과를 캐시하여 이전에 계산된 값을 저장하고 다시 사용할 수 있도록 함\n",
        "      - 반복적인 계산을 피하고 실행 속도를 향상\n",
        "\n",
        "  - cmp_to_key\n",
        "\n",
        "      - 비교 함수를 키 함수로 변환\n",
        "      - 정렬이나 순서 매기기와 관련된 함수\n",
        "\n",
        "  - total_ordering\n",
        "\n",
        "      - 부분적으로 정의된 비교 메서드를 기반으로 클래스에 전체 순서를 정의\n",
        "      - __lt__, __le__, __gt__, __ge__ 메서드를 구현하는 데 필요한 반복 작업을 줄일 수 있음"
      ],
      "metadata": {
        "id": "oZ3td4z0LQJN"
      }
    },
    {
      "cell_type": "markdown",
      "source": [
        "#### enumerate\n",
        "\n",
        " : 함수는 순회 가능한 객체(리스트, 튜플, 문자열)를 받아 각 요소의 인덱스와 값을 함께 반환하는 이터레이터 생성\n",
        "\n",
        "  리스트의 요소를 순회하면서 인덱스의 값을 출력할 수 있음"
      ],
      "metadata": {
        "id": "4sjtFzsIMo_g"
      }
    },
    {
      "cell_type": "code",
      "source": [
        "fruits = ['apple', 'banana', 'cherry']\n",
        "for index, fruit in enumerate(fruits):\n",
        "    print(index, fruit)\n",
        "# 출력:\n",
        "# 0 apple\n",
        "# 1 banana\n",
        "# 2 cherry"
      ],
      "metadata": {
        "id": "oMixq2tgLxF9",
        "colab": {
          "base_uri": "https://localhost:8080/"
        },
        "outputId": "b0257388-541d-4b36-835b-dfe033984691"
      },
      "execution_count": null,
      "outputs": [
        {
          "output_type": "stream",
          "name": "stdout",
          "text": [
            "0 apple\n",
            "1 banana\n",
            "2 cherry\n"
          ]
        }
      ]
    },
    {
      "cell_type": "markdown",
      "source": [
        "#### zip\n",
        "\n",
        " : 여러 개의 순회 가능한 객체를 받아서 각 객체의 동일한 인덱스에 있는 요소들을 묶어 듀플로 반환하는 이터레이터를 생성"
      ],
      "metadata": {
        "id": "qF-h5TN5M-SN"
      }
    },
    {
      "cell_type": "code",
      "source": [
        "fruits = ['apple', 'banana', 'cherry']\n",
        "prices = [1.0, 0.5, 0.8]\n",
        "for fruit, price in zip(fruits, prices):\n",
        "    print(fruit, price)\n",
        "# 출력:\n",
        "# apple 1.0\n",
        "# banana 0.5\n",
        "# cherry 0.8"
      ],
      "metadata": {
        "id": "IdJHYkTDNMIA"
      },
      "execution_count": null,
      "outputs": []
    },
    {
      "cell_type": "markdown",
      "source": [
        "#### args\n",
        "\n",
        " : 함수 호출 시에 임의의 개수와 위치 인자를 전달할 수 있도록 함\n",
        "\n",
        "   튜플로 전달됨\n",
        "\n",
        "#### kwargs\n",
        "\n",
        " : 함수 호출 시에 임의의 개수의 키워드 인자를 전달할 수 있도록 함\n",
        "\n",
        "   딕셔너리로 전달됨\n",
        "\n",
        "-> args와 kwargs를 사용하면 함수에 임의의 인자를 전달할 수 있으므로, 인자의 개수가 정해져 있지 않은 유연한 함수를 작성할 수 있음"
      ],
      "metadata": {
        "id": "3NtQ_A-oNM0j"
      }
    },
    {
      "cell_type": "code",
      "source": [
        "def example_func(*args, **kwargs):\n",
        "    for arg in args:\n",
        "        print(arg)\n",
        "    for key, value in kwargs.items():\n",
        "        print(key, value)\n",
        "\n",
        "example_func('apple', 'banana', color='yellow', price=1.0)\n",
        "# 출력:\n",
        "# apple\n",
        "# banana\n",
        "# color yellow\n",
        "# price 1.0"
      ],
      "metadata": {
        "id": "rKH9Meb9NnkG",
        "colab": {
          "base_uri": "https://localhost:8080/"
        },
        "outputId": "6f3788a6-60f6-4aaa-8af4-0b5b1dbc5b3c"
      },
      "execution_count": null,
      "outputs": [
        {
          "output_type": "stream",
          "name": "stdout",
          "text": [
            "apple\n",
            "banana\n",
            "color yellow\n",
            "price 1.0\n"
          ]
        }
      ]
    },
    {
      "cell_type": "markdown",
      "source": [
        "#3. 데이터 시각화 Visualizing Data"
      ],
      "metadata": {
        "id": "5UA8-WPDcDCm"
      }
    },
    {
      "cell_type": "markdown",
      "source": [
        "  : 숫자와 통계적인 정보를 시각적으로 표현\n",
        "\n",
        "  * 데이터의 시각화 목적\n",
        "\n",
        "    - 데이터의 전체적인 개요 파악\n",
        "    - 데이터 간의 관계와 연관성 이해\n",
        "    - 데이터의 분포와 이상치 탐지"
      ],
      "metadata": {
        "id": "Wz4iNgxj28Gy"
      }
    },
    {
      "cell_type": "markdown",
      "source": [
        "\n",
        "## **Matplotlib**\n",
        "\n",
        "  - 데이터 시각화 라이브러리 중 하나\n",
        "\n",
        "  - 그래프, 차트, 플롯 등 다양한 시각화 생성\n",
        "\n",
        "  - 객체 지향적인 접근 방식\n",
        "  \n",
        "  ( 그래프를 생성하기 위해서 Figure 객체를 생성하고 그 위에 Axes(서브 플롯) 객체를 추가하여 그래프 생성)\n",
        "\n",
        "  - Matplotlib의 주요 모듈\n",
        "\n",
        "    - 1. pyplot\n",
        "      \n",
        "      : Matplotlib의 핵심 모듈\n",
        "\n",
        "       - 그래프를 생성하고 수정하는 함수 제공\n",
        "\n",
        "       - 주로 plt라고 나타냄\n",
        "       \n",
        "       - plt.xlabel(), plt.ylable(), plt.title() 함수를 사용하여 축의 레이블과 그래프의 제목 설정\n",
        "      \n",
        "      - plt.show() 함수를 사용하여 그래프 표시\n",
        "\n",
        "    - 2.Figure\n",
        "\n",
        "      : 그래프의 전체적인 레이아웃과 스타일을 관리\n",
        "\n",
        "       - 그래프의 크기, 배경색, 여러 서브 플롯의 배치 등을 조절\n",
        "\n",
        "    - 3. Axes\n",
        "\n",
        "     : 그래프의 영역을 담당\n",
        "\n",
        "     - 하나의 Figure 안에 여러 개의 Axes를 추가하여 서브 플롯을 생성\n",
        "\n",
        "     - x축, y축, 그리드, 데이터 플롯 등\n",
        "\n",
        "    - 주요 그래프로는 선 그래프, 히스토그램, 산점도, 원 그래프, 박스 플롯 등이 있음"
      ],
      "metadata": {
        "id": "-w6NVqfh4NJw"
      }
    },
    {
      "cell_type": "markdown",
      "source": [
        "### **선 그래프 Line chart**"
      ],
      "metadata": {
        "id": "TjB5CmdQ-RCh"
      }
    },
    {
      "cell_type": "markdown",
      "source": [
        "- 데이터를 선으로 연결하여 시각적으로 나타내는 그래프\n",
        "- 연속적인 데이터의 변화를 표현하는 데 유용\n",
        "  - ex) 시간, 순서 또는 연속적인 값의 변화\n",
        "- x축과 y축의 데이터 필수\n",
        "  - x축: 독립변수\n",
        "  - y축: 종속변수(해당 x값에 따른 데이터의 변화)\n",
        "\n",
        "- plt.plot()함수 사용\n",
        "  - plt.plot() : x값과 y값을 인자로 받아 선 그래프를 그림\n",
        "  - 매개변수를 활용하여 여러 가지 방식으로 표현\n",
        "      - marker: 데이터 포인트를 나타내는 마커 모양 표현\n",
        "      - linestyle : 선 스타일\n",
        "      - color : 선 색상\n"
      ],
      "metadata": {
        "id": "zXMKByBSIQHn"
      }
    },
    {
      "cell_type": "code",
      "source": [
        "import matplotlib.pyplot as plt\n",
        "\n",
        "# 데이터\n",
        "x = [1, 2, 3, 4, 5]\n",
        "y = [2, 4, 6, 8, 10]\n",
        "\n",
        "# 선 그래프 그리기\n",
        "plt.plot(x, y, marker='o', linestyle='--', color='b')\n",
        "\n",
        "# 축과 제목 설정\n",
        "plt.xlabel('X-axis')\n",
        "plt.ylabel('Y-axis')\n",
        "plt.title('Line Graph')\n",
        "\n",
        "# 그래프 보여주기\n",
        "plt.show()"
      ],
      "metadata": {
        "colab": {
          "base_uri": "https://localhost:8080/",
          "height": 472
        },
        "id": "3UWlUq9P9Nhq",
        "outputId": "21149fd1-8ef4-47a4-b159-85ae41c64638"
      },
      "execution_count": null,
      "outputs": [
        {
          "output_type": "display_data",
          "data": {
            "text/plain": [
              "<Figure size 640x480 with 1 Axes>"
            ],
            "image/png": "[encoded data removed]"
          },
          "metadata": {}
        }
      ]
    },
    {
      "cell_type": "markdown",
      "source": [
        "### 막대 그래프 Bar chart"
      ],
      "metadata": {
        "id": "HI_KlCQlJ2ky"
      }
    },
    {
      "cell_type": "markdown",
      "source": [
        ": 카테고리나 **범주형 데이터**의 빈도수, 비교, 상대적인 크기 등을 시각적으로 나타내는 데 사용\n",
        "- 각 카테고리는 서로 다른 막대로 표현\n",
        "- 막대의 높이나 길이는 해당 카테고리의 값에 따라 결정\n",
        "- plt.bar() 함수 사용\n",
        "  - x값과 해당 x값의 막대 높이를 인자로 받아 막대그래프를 그림\n",
        "  - 다양한 매개변수를 활용하여 모양과 스타일 조절\n",
        "    - height: 막대 높이(각 카테고리의 값)\n",
        "    - width : 막대 너비\n",
        "    - color : 색상\n",
        "    - edgecolor : 테두리 색상\n",
        "    - label : 범례\n",
        "    - align : 막대의 정렬 방식(기본값 center)"
      ],
      "metadata": {
        "id": "NdcV2YTzKM3e"
      }
    },
    {
      "cell_type": "code",
      "source": [
        "import matplotlib.pyplot as plt\n",
        "\n",
        "# 막대 그래프 데이터\n",
        "categories = ['A', 'B', 'C', 'D']\n",
        "values = [20, 35, 30, 15]\n",
        "\n",
        "# 막대 그래프 그리기\n",
        "plt.bar(categories, values, color='blue')\n",
        "\n",
        "# 축과 제목 설정\n",
        "plt.xlabel('Categories')\n",
        "plt.ylabel('Values')\n",
        "plt.title('Bar Graph')\n",
        "\n",
        "# 그래프 보여주기\n",
        "plt.show()"
      ],
      "metadata": {
        "colab": {
          "base_uri": "https://localhost:8080/",
          "height": 472
        },
        "id": "NYryn4T1Mslb",
        "outputId": "9100aa5f-fa35-4149-a491-db9e6e9f4128"
      },
      "execution_count": null,
      "outputs": [
        {
          "output_type": "display_data",
          "data": {
            "text/plain": [
              "<Figure size 640x480 with 1 Axes>"
            ],
            "image/png": "[encoded data removed]"
          },
          "metadata": {}
        }
      ]
    },
    {
      "cell_type": "markdown",
      "source": [
        "#### 히스토그램 Histogram"
      ],
      "metadata": {
        "id": "TyA5t4ssK9Yl"
      }
    },
    {
      "cell_type": "markdown",
      "source": [
        ": **연속적인 데이터**의 분포를 시각화하는 데 사용\n",
        "\n",
        "- 주어진 데이터를 일정한 구간 또는 범위로 나누고, 각 구간에 속하는 데이터의 개수를 막대로 표현\n",
        "- 데이터의 분포 모양, 중심 경향성, 이상치 여부 등을 파악하는 데 유용\n",
        "- plt.hist() 함수를 사용\n",
        "  - 데이터 배열을 인자로 받아 히스토그램을 그림\n",
        "  - 매개변수\n",
        "    - bins : 히스토그램의 구간(bin)의 개수, 데이터 범위를 일정한 크기의 구간으로 나누어 표현\n",
        "    - ragne : 히스토그램의 구간 범위 설정(기본값은 데이터의 최소값, 최대값)\n",
        "    - density : 히스토그램의 높이를 정규화하여 각 구간의 빈도수 대신 상대적인 확률 밀도 표현(기본값 False)\n",
        "    - histtype : 히스토그램 모양\n",
        "      - bar : 일반적인 막대 모양\n",
        "      - step : 계단 모양\n",
        "      - stepfilled : 채워진 상태의 계단 모양\n",
        "    - color : 히스토그램 막대 색상\n",
        "    - edgecolor : 히스토그램 막대 테두리 색상"
      ],
      "metadata": {
        "id": "xHf2-CTbLA0A"
      }
    },
    {
      "cell_type": "code",
      "source": [
        "import matplotlib.pyplot as plt\n",
        "import numpy as np\n",
        "\n",
        "# 데이터 생성\n",
        "data = np.random.randn(1000)  # 무작위로 1000개의 데이터 생성\n",
        "\n",
        "# 히스토그램 그리기\n",
        "plt.hist(data, bins=30, color='blue', edgecolor='black')\n",
        "\n",
        "# 축과 제목 설정\n",
        "plt.xlabel('Value')\n",
        "plt.ylabel('Frequency')\n",
        "plt.title('Histogram')\n",
        "\n",
        "# 그래프 보여주기\n",
        "plt.show()"
      ],
      "metadata": {
        "colab": {
          "base_uri": "https://localhost:8080/",
          "height": 472
        },
        "id": "qXFIsmoeM2wI",
        "outputId": "8d7f1478-bad8-4763-d96f-36049b143b94"
      },
      "execution_count": null,
      "outputs": [
        {
          "output_type": "display_data",
          "data": {
            "text/plain": [
              "<Figure size 640x480 with 1 Axes>"
            ],
            "image/png": "[encoded data removed]"
          },
          "metadata": {}
        }
      ]
    },
    {
      "cell_type": "markdown",
      "source": [
        "### 원 그래프 Pie chart"
      ],
      "metadata": {
        "id": "nBmLSd5dLHnH"
      }
    },
    {
      "cell_type": "markdown",
      "source": [
        ": 범주형 데이터의 상대적인 비율을 부채꼴 모양의 조각으로 나타내는 그래프\n",
        "\n",
        "- 각 조각은 범주에 해당하는 데이터의 비율(전체 데이터를 기준으로 비율 표현 / 전체 합이 100%)\n",
        "- 원 그래프는 주로 범주 간 비율의 시각적인 비교를 목적으로 사용\n",
        "\n",
        "  다양한 범주 간의 상대적인 비율을 한눈에 파악 가능\n",
        "\n",
        "  데이터의 전체 구성을 직관적으로 이해\n",
        "\n",
        "- plt.pie() 함수 사용\n",
        "\n",
        " : 데이터의 값과 레이블을 인자로 받아 원 그래프를 그림\n",
        "\n",
        " - 매개변수\n",
        "\n",
        "    - lables : 각 범주에 대한 레이블(리스트 형태로 전달, 순서는 데이터 순서와 일치해야 함)\n",
        "    - colors : 각 범주에 대한 색상(리스트 형태로 색상 전달, 순서는 데이터 순서와 일치해야 함)\n",
        "    - explode : 특정 범주를 돌출시켜 강조(리스트 형태로 전달, 기본값 None)\n",
        "    - autopct : 각 조각에 대한 비율을 퍼센트로 표시하는 방식 <ex) %1.1f%%>\n",
        "    - startangle : 그래프의 시작 각도(시계방향으로 회전)\n",
        "    - shadow : 그림자 효과(기본값 False)\n",
        "    - pctdistance : 비율 표시 위치 조정(중심에서의 거리 0과 1 사이의 값으로 지정)\n",
        "    - labeldistance : 레이블 표시 위치 조정(중심에서부터 거리를 0과 1 사이의 값으로 지정)\n",
        "    - radius : 원 그래프의 반지름(값이 커질수록 원 그래프도 커짐)\n",
        "    - counterclock : 원 그래프의 방향(기본값 True : 반시계 방향 / False : 시계 방향)\n",
        "    - wedgeprops : 각 조각의 속성 설정(색상, 테두리 스타일 등)\n",
        "\n",
        "\n"
      ],
      "metadata": {
        "id": "N9sZ9GfnNh56"
      }
    },
    {
      "cell_type": "code",
      "source": [
        "import matplotlib.pyplot as plt\n",
        "\n",
        "categories = ['A', 'B', 'C', 'D']\n",
        "values = [30, 20, 15, 35]\n",
        "\n",
        "plt.pie(values, labels = categories, colors = ['red', 'green', 'blue', 'yellow'],\n",
        "        explode = [0, 0.1, 0, 0], autopct = '%1.1f%%', startangle=90, shadow=True,\n",
        "        radius = 1.5, counterclock = False,\n",
        "        wedgeprops = {'linewidth' : 2, 'edgecolor': 'black'},\n",
        "        textprops = {'fontsize' : 12, 'color' : 'white'})\n",
        "\n",
        "plt.title('Pie Chart')\n",
        "\n",
        "plt.show()\n"
      ],
      "metadata": {
        "colab": {
          "base_uri": "https://localhost:8080/",
          "height": 496
        },
        "id": "7OhaoLrgR1pU",
        "outputId": "43928f40-32f4-43b0-c45a-db588d614647"
      },
      "execution_count": null,
      "outputs": [
        {
          "output_type": "display_data",
          "data": {
            "text/plain": [
              "<Figure size 640x480 with 1 Axes>"
            ],
            "image/png": "[encoded data removed]"
          },
          "metadata": {}
        }
      ]
    },
    {
      "cell_type": "markdown",
      "source": [
        "### 박스 플롯 Box plot"
      ],
      "metadata": {
        "id": "IAi_Jxs4LHfp"
      }
    },
    {
      "cell_type": "markdown",
      "source": [
        " : 수치형 데이터의 분포를 시각화하는 방법\n",
        "\n",
        " - 주로 데이터의 중앙값, 사분위수, 이상치 등을 나타내어 데이터의 분포를 쉽게 파악\n",
        "  \n",
        " - 데이터의 통계적 특성을 시각적으로 표현\n",
        "  \n",
        "    - 최소값(Minimum)\n",
        "    - 제1사분위수(First Quartile, Q1): 데이터의 25% 지점\n",
        "    - 중앙값(Median, Q2) : 데이터의 50% 지점\n",
        "    - 제3사분위수(Third Quartile, Q3) : 데이터의 75% 지점\n",
        "    - 최대값(Maximum) : 데이터의 최댓값\n",
        "    - 이상치(Qutilers) : 일반적인 데이터 범위를 벗어나는 값들\n",
        "\n",
        " - plt.boxplot() 함수 사용\n",
        "  \n",
        "  : 데이터의 배열을 인자로 받아 박스플롯을 그림\n",
        "\n",
        "   데이터의 배열은 각각의 열이 다른 범주에 해당하는 수치형 데이터를 가지는 2차원 배열 또는 리스트로 전달\n",
        "\n",
        "   - 매개 변수\n",
        "\n",
        "      - x 또는 data : 박스플롯에 사용될 데이터(1차원 배열 또는 리스트 형태로 전달)\n",
        "      - labels ; 박스 플롯의 각 데이터 그룹에 대한 레이블(데이터 그룹의 순서와 일치)\n",
        "      - notch : 박스플롯의 상자에 홈을 추가하여 중앙값의 신뢰 구간을 표시할지(기본값 False)\n",
        "      - sym : 이상치를 표시하는 기호를 설정(기본값 +)\n",
        "      - vert : 수직으로 그릴지 수평으로 그릴지 설정(기본값 True(수직))\n",
        "      - meanline : 평균값을 표시하는 선\n",
        "      - widths : 박스 너비(리스트 형태로 값 전달, 데이터 그룹별로 너비 설정)\n",
        "      - patch_artist : 패치 아티스트로 사용하여 박스플롯의 상자 영역을 그림\n",
        "      - whisker : 박스플롯의 whisker 선 스타일\n",
        "      - boxprops : 상자의 속성\n",
        "      - medianprops : 중앙값을 나타내는 선 속성\n",
        "      - fileprops : 이상치를 표시하는 기호의 속성"
      ],
      "metadata": {
        "id": "Y2ufoeZPTgil"
      }
    },
    {
      "cell_type": "code",
      "source": [
        "import matplotlib.pyplot as plt\n",
        "import numpy as np\n",
        "\n",
        "# 데이터 생성\n",
        "data = np.random.randn(100)\n",
        "\n",
        "# 박스플롯 그리기\n",
        "plt.boxplot(data)\n",
        "\n",
        "# 제목 설정\n",
        "plt.title('Box Plot')\n",
        "\n",
        "# 그래프 보여주기\n",
        "plt.show()"
      ],
      "metadata": {
        "colab": {
          "base_uri": "https://localhost:8080/",
          "height": 452
        },
        "id": "mmP2lgnoVvVO",
        "outputId": "f95e0110-0c92-4317-c35a-3730a9007570"
      },
      "execution_count": null,
      "outputs": [
        {
          "output_type": "display_data",
          "data": {
            "text/plain": [
              "<Figure size 640x480 with 1 Axes>"
            ],
            "image/png": "[encoded data removed]"
          },
          "metadata": {}
        }
      ]
    },
    {
      "cell_type": "code",
      "source": [
        "import matplotlib.pyplot as plt\n",
        "import numpy as np\n",
        "\n",
        "# 데이터 생성\n",
        "data1 = np.random.normal(0, 1, 100)\n",
        "data2 = np.random.normal(1, 1, 100)\n",
        "data3 = np.random.normal(2, 1, 100)\n",
        "\n",
        "# 박스플롯 그리기\n",
        "plt.boxplot([data1, data2, data3], labels=['Group 1', 'Group 2', 'Group 3'],\n",
        "            notch=True, sym='o', vert=False, meanline=True, showfliers=False,\n",
        "            widths=[0.5, 0.5, 0.5])\n",
        "\n",
        "# 제목 설정\n",
        "plt.title('Box Plot')\n",
        "\n",
        "# 그래프 보여주기\n",
        "plt.show()"
      ],
      "metadata": {
        "colab": {
          "base_uri": "https://localhost:8080/",
          "height": 452
        },
        "id": "lqMqzDeNV21N",
        "outputId": "0c914756-903f-48bc-c751-8df56a9bc6ce"
      },
      "execution_count": null,
      "outputs": [
        {
          "output_type": "display_data",
          "data": {
            "text/plain": [
              "<Figure size 640x480 with 1 Axes>"
            ],
            "image/png": "[encoded data removed]"
          },
          "metadata": {}
        }
      ]
    },
    {
      "cell_type": "code",
      "source": [
        "import matplotlib.pyplot as plt\n",
        "import numpy as np\n",
        "\n",
        "# 데이터 생성\n",
        "data = [np.random.normal(0, 1, 100), np.random.normal(1, 1, 100)]\n",
        "\n",
        "# 박스플롯 그리기\n",
        "bp = plt.boxplot(data, patch_artist=True, notch=True)\n",
        "\n",
        "# 상자의 색상과 채우기 설정\n",
        "for box in bp['boxes']:\n",
        "    box.set(color='blue', linewidth=2)\n",
        "    box.set(facecolor='lightblue')\n",
        "\n",
        "# 중앙값 선의 스타일 설정\n",
        "for median in bp['medians']:\n",
        "    median.set(color='red', linewidth=2)\n",
        "\n",
        "# 이상치의 스타일 설정\n",
        "for flier in bp['fliers']:\n",
        "    flier.set(marker='o', markerfacecolor='green', markeredgecolor='black')\n",
        "\n",
        "# 그래프 보여주기\n",
        "plt.show()"
      ],
      "metadata": {
        "colab": {
          "base_uri": "https://localhost:8080/",
          "height": 430
        },
        "id": "4GmTVGXoZNv5",
        "outputId": "bec4baf0-82b5-40d6-b82e-6970def9c47e"
      },
      "execution_count": null,
      "outputs": [
        {
          "output_type": "display_data",
          "data": {
            "text/plain": [
              "<Figure size 640x480 with 1 Axes>"
            ],
            "image/png": "[encoded data removed]"
          },
          "metadata": {}
        }
      ]
    },
    {
      "cell_type": "markdown",
      "source": [
        "### 산점도 Scatter plot"
      ],
      "metadata": {
        "id": "RwVMVc0BZZ_5"
      }
    },
    {
      "cell_type": "markdown",
      "source": [
        " : 두 개의 변수 간의 관계를 나타내기 위해 사용되는 그래프\n",
        "\n",
        " - 각각의 데이터 포인트는 x축과 y축 상에서 좌표로 나타내어지며, 데이터 간의 분포와 패턴을 시각화하는 데 유용\n",
        " - plt.scatter() 함수 사용\n",
        "  \n",
        "  : x축과 y축의 데이터를 인자로 받아 산점도를그림\n",
        "   \n",
        "   데이터 포인트의 크기, 색상 등의 속성을 추가로 설정\n",
        "\n",
        "   - 매개변수\n",
        "\n",
        "    - x, y : 산점도의 x축과 y축 데이터\n",
        "    - s : 데이터 포인트의 크기(단일 값 또는 배열로 크기 지정)\n",
        "    - c : 데이터 포인트의 색상(단일값 또는 배열로 색상 지정, 기본값 None)\n",
        "    - marker : 데이터 포인트의 모양(기본값 'o': 원, 's': 사각형 '^': 삼각형)\n",
        "    - alpha : 데이터 포인트의 투명도(0에서 1 사이의 값, 0은 완전 투명, 1은 완전 불투명)\n",
        "    - label : 산점도에 대한 레이블\n",
        "    - cmap : 데이터 포인틔 색상을 지정하는 데 사용할 컬러맵\n",
        "    - linewidths : 데이터 포인트의 테두리 선의 굵기"
      ],
      "metadata": {
        "id": "PoKvuSY3ZeVi"
      }
    },
    {
      "cell_type": "code",
      "source": [
        "import matplotlib.pyplot as plt\n",
        "\n",
        "# x축 데이터\n",
        "x = [1, 2, 3, 4, 5]\n",
        "\n",
        "# y축 데이터\n",
        "y = [2, 4, 6, 8, 10]\n",
        "\n",
        "# 산점도 그리기\n",
        "plt.scatter(x, y)\n",
        "\n",
        "# 축 레이블 설정\n",
        "plt.xlabel('X-axis')\n",
        "plt.ylabel('Y-axis')\n",
        "\n",
        "# 그래프 보여주기\n",
        "plt.show()"
      ],
      "metadata": {
        "colab": {
          "base_uri": "https://localhost:8080/",
          "height": 449
        },
        "id": "vgRYDk2mZ89v",
        "outputId": "119aa0ab-1df4-4635-8361-1b618a9fc6d2"
      },
      "execution_count": null,
      "outputs": [
        {
          "output_type": "display_data",
          "data": {
            "text/plain": [
              "<Figure size 640x480 with 1 Axes>"
            ],
            "image/png": "[encoded data removed]"
          },
          "metadata": {}
        }
      ]
    },
    {
      "cell_type": "code",
      "source": [
        "import matplotlib.pyplot as plt\n",
        "import numpy as np\n",
        "\n",
        "# x축 데이터\n",
        "x = np.random.randn(100)\n",
        "\n",
        "# y축 데이터\n",
        "y = np.random.randn(100)\n",
        "\n",
        "# 산점도 그리기\n",
        "plt.scatter(x, y, s=50, c='r', marker='o', alpha=0.5, label='Data Points')\n",
        "\n",
        "# 축 레이블 설정\n",
        "plt.xlabel('X-axis')\n",
        "plt.ylabel('Y-axis')\n",
        "\n",
        "# 범례 표시\n",
        "plt.legend()\n",
        "\n",
        "# 그래프 보여주기\n",
        "plt.show()"
      ],
      "metadata": {
        "colab": {
          "base_uri": "https://localhost:8080/",
          "height": 449
        },
        "id": "aaVi7GLiaLfG",
        "outputId": "eed9d407-d3e7-47b0-da5d-77b9042394bd"
      },
      "execution_count": null,
      "outputs": [
        {
          "output_type": "display_data",
          "data": {
            "text/plain": [
              "<Figure size 640x480 with 1 Axes>"
            ],
            "image/png": "[encoded data removed]"
          },
          "metadata": {}
        }
      ]
    }
  ]
}